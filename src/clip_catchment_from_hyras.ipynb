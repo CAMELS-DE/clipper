{
 "cells": [
  {
   "cell_type": "markdown",
   "metadata": {},
   "source": [
    "# Clip the `hyras` dataset for one catchment and year"
   ]
  },
  {
   "cell_type": "markdown",
   "metadata": {},
   "source": [
    "This is a long text explainging what this notebook does in detail"
   ]
  },
  {
   "cell_type": "markdown",
   "metadata": {},
   "source": [
    "## Parameters"
   ]
  },
  {
   "cell_type": "markdown",
   "metadata": {},
   "source": [
    "\n",
    "This notebook is supposed to be run with `papermill`. These are the parameters, that can be changed from outside the notebook, using papermill.\n",
    "Values in here reflect default values and are not meant to be changed directly."
   ]
  },
  {
   "cell_type": "code",
   "execution_count": 1,
   "metadata": {
    "tags": [
     "parameters"
    ]
   },
   "outputs": [],
   "source": [
    "# parameters for this catchment\n",
    "catchment_id = 'DEE11200'\n",
    "variable = 'pr'\n",
    "local_cache = None\n",
    "\n",
    "# some settings to control the processing\n",
    "WITH_PAPERMILL = False\n",
    "MANUAL_RUN = False\n",
    "\n",
    "# general settings\n",
    "target_bucket = 'camels_output_data'\n",
    "local_hyras_cache = '../hyras_cache'\n",
    "notebook_bucket = 'camels_notebooks'\n",
    "catchments_path = './merit_hydro_catchments.gpkg'\n",
    "base_url = \"https://opendata.dwd.de/climate_environment/CDC/grids_germany/daily/hyras_de\""
   ]
  },
  {
   "cell_type": "markdown",
   "metadata": {},
   "source": [
    "## Preamble"
   ]
  },
  {
   "cell_type": "markdown",
   "metadata": {},
   "source": [
    "This part import necessary packages and derives some needed parameters from the supplied parameters."
   ]
  },
  {
   "cell_type": "code",
   "execution_count": 2,
   "metadata": {},
   "outputs": [
    {
     "data": {
      "text/plain": [
       "True"
      ]
     },
     "execution_count": 2,
     "metadata": {},
     "output_type": "execute_result"
    }
   ],
   "source": [
    "import tempfile\n",
    "from datetime import datetime as dt\n",
    "from tqdm import tqdm\n",
    "from pathlib import Path\n",
    "\n",
    "from dotenv import load_dotenv\n",
    "import httpx\n",
    "import duckdb\n",
    "import xarray as xr\n",
    "import geopandas as gpd\n",
    "from geocube.api.core import make_geocube\n",
    "\n",
    "load_dotenv()"
   ]
  },
  {
   "cell_type": "code",
   "execution_count": 3,
   "metadata": {},
   "outputs": [],
   "source": [
    "# handle the local cache path\n",
    "if local_cache is None:\n",
    "    local_cache = Path.cwd() / catchment_id\n",
    "else:\n",
    "    local_cache = Path(local_cache)\n",
    "\n",
    "if not local_cache.exists():\n",
    "    local_cache.mkdir(parents=True, exist_ok=True)"
   ]
  },
  {
   "cell_type": "markdown",
   "metadata": {},
   "source": [
    "This notebook is intended to be run by `papermill` to ensure, that it ran automatically with transparent setting of parameters.\n",
    "As we expect some runs to fail on specific catchments, it is also possible to inspect these notebooks and run them by hand. To do so, you\n",
    "need to set the `MANUAL_RUN` flag to `True`, otherwise, the next cell will raise an exception and create an error file.\n",
    "\n",
    "If you need to postprocess a specific version of this notebook, you have to indicate the changes you did in the next cell, by supplying a description, which will be stored along with the processed files."
   ]
  },
  {
   "cell_type": "code",
   "execution_count": 4,
   "metadata": {},
   "outputs": [
    {
     "ename": "RuntimeError",
     "evalue": "The execution of the clip_catchment_from_hyras.ipynb has been cancelled on 2024-01-12 08:37:13.468103 UTC.\nThe reason is, that the notebook was not executed with papermill, and/or the parameter WITH_PAPERMILL was not set to `True` by papermill.\nThis is necessary to ensure, that all HYRAS files where processed in exactly the same way.\nBy this we state clear data and processing provenance for the CAMELS-DE dataset.\n\nIn case you tried to debug this notebook, or fix specificities about some catchments, you can set the parameter MANUAL_RUN to `True` \nand execute the notebook again. In that case it is abosulely necessary to update the notebook to reflect the changes you made.\nIn addition, you should explain all changes in the notebook itself, and upload it to the other notebooks.\n\nDEBUG\n-----\ncatchment_id: DEE11200\nvariable: pr\ncatchments_path: ./merit_hydro_catchments.gpkg\nlocal_cache: /home/alexd/Projekte/CAMELS/Github/clipper/src/DEE11200\n\nHYRAS\n-----\nbase_url: https://opendata.dwd.de/climate_environment/CDC/grids_germany/daily/hyras_de\ntarget_bucket: camels_output_data\nnotebook_bucket: camels_notebooks\n",
     "output_type": "error",
     "traceback": [
      "\u001b[0;31m---------------------------------------------------------------------------\u001b[0m",
      "\u001b[0;31mRuntimeError\u001b[0m                              Traceback (most recent call last)",
      "Cell \u001b[0;32mIn[4], line 27\u001b[0m\n\u001b[1;32m      3\u001b[0m error_msg \u001b[38;5;241m=\u001b[39m \u001b[38;5;124mf\u001b[39m\u001b[38;5;124m\"\"\"\u001b[39m\u001b[38;5;124mThe execution of the clip_catchment_from_hyras.ipynb has been cancelled on \u001b[39m\u001b[38;5;132;01m{\u001b[39;00mdt\u001b[38;5;241m.\u001b[39mutcnow()\u001b[38;5;132;01m}\u001b[39;00m\u001b[38;5;124m UTC.\u001b[39m\n\u001b[1;32m      4\u001b[0m \u001b[38;5;124mThe reason is, that the notebook was not executed with papermill, and/or the parameter WITH_PAPERMILL was not set to `True` by papermill.\u001b[39m\n\u001b[1;32m      5\u001b[0m \u001b[38;5;124mThis is necessary to ensure, that all HYRAS files where processed in exactly the same way.\u001b[39m\n\u001b[0;32m   (...)\u001b[0m\n\u001b[1;32m     23\u001b[0m \u001b[38;5;124mnotebook_bucket: \u001b[39m\u001b[38;5;132;01m{\u001b[39;00mnotebook_bucket\u001b[38;5;132;01m}\u001b[39;00m\n\u001b[1;32m     24\u001b[0m \u001b[38;5;124m\"\"\"\u001b[39m\n\u001b[1;32m     25\u001b[0m \u001b[38;5;28;01mif\u001b[39;00m \u001b[38;5;129;01mnot\u001b[39;00m WITH_PAPERMILL \u001b[38;5;129;01mand\u001b[39;00m \u001b[38;5;129;01mnot\u001b[39;00m MANUAL_RUN:\n\u001b[1;32m     26\u001b[0m     \u001b[38;5;66;03m# raise the error, to let papermill handle it\u001b[39;00m\n\u001b[0;32m---> 27\u001b[0m     \u001b[38;5;28;01mraise\u001b[39;00m \u001b[38;5;167;01mRuntimeError\u001b[39;00m(error_msg)\n",
      "\u001b[0;31mRuntimeError\u001b[0m: The execution of the clip_catchment_from_hyras.ipynb has been cancelled on 2024-01-12 08:37:13.468103 UTC.\nThe reason is, that the notebook was not executed with papermill, and/or the parameter WITH_PAPERMILL was not set to `True` by papermill.\nThis is necessary to ensure, that all HYRAS files where processed in exactly the same way.\nBy this we state clear data and processing provenance for the CAMELS-DE dataset.\n\nIn case you tried to debug this notebook, or fix specificities about some catchments, you can set the parameter MANUAL_RUN to `True` \nand execute the notebook again. In that case it is abosulely necessary to update the notebook to reflect the changes you made.\nIn addition, you should explain all changes in the notebook itself, and upload it to the other notebooks.\n\nDEBUG\n-----\ncatchment_id: DEE11200\nvariable: pr\ncatchments_path: ./merit_hydro_catchments.gpkg\nlocal_cache: /home/alexd/Projekte/CAMELS/Github/clipper/src/DEE11200\n\nHYRAS\n-----\nbase_url: https://opendata.dwd.de/climate_environment/CDC/grids_germany/daily/hyras_de\ntarget_bucket: camels_output_data\nnotebook_bucket: camels_notebooks\n"
     ]
    }
   ],
   "source": [
    "# this is the error handler, to abort the execution of the notebook\n",
    "\n",
    "error_msg = f\"\"\"The execution of the clip_catchment_from_hyras.ipynb has been cancelled on {dt.utcnow()} UTC.\n",
    "The reason is, that the notebook was not executed with papermill, and/or the parameter WITH_PAPERMILL was not set to `True` by papermill.\n",
    "This is necessary to ensure, that all HYRAS files where processed in exactly the same way.\n",
    "By this we state clear data and processing provenance for the CAMELS-DE dataset.\n",
    "\n",
    "In case you tried to debug this notebook, or fix specificities about some catchments, you can set the parameter MANUAL_RUN to `True` \n",
    "and execute the notebook again. In that case it is abosulely necessary to update the notebook to reflect the changes you made.\n",
    "In addition, you should explain all changes in the notebook itself, and upload it to the other notebooks.\n",
    "\n",
    "DEBUG\n",
    "-----\n",
    "catchment_id: {catchment_id}\n",
    "variable: {variable}\n",
    "catchments_path: {catchments_path}\n",
    "local_cache: {local_cache}\n",
    "\n",
    "HYRAS\n",
    "-----\n",
    "base_url: {base_url}\n",
    "target_bucket: {target_bucket}\n",
    "notebook_bucket: {notebook_bucket}\n",
    "\"\"\"\n",
    "if not WITH_PAPERMILL and not MANUAL_RUN:\n",
    "    # raise the error, to let papermill handle it\n",
    "    raise RuntimeError(error_msg)"
   ]
  },
  {
   "cell_type": "markdown",
   "metadata": {},
   "source": [
    "Define the necessary functions to download the hyras dataset and to download the catchments, if not supplied locally.\n",
    "Outside of this notebook, you can use the `db.DuckProcessor`, which can do all of that and be configured directly, or by environment variables.\n",
    "These cells re-define the needed functionality to make the notebook self-contained. You do not need `db.DuckProcessor` to run it."
   ]
  },
  {
   "cell_type": "code",
   "execution_count": 5,
   "metadata": {},
   "outputs": [],
   "source": [
    "VAR_MAP = {\n",
    "    'pr': 'precipitation',\n",
    "    'hurs': 'humidity',\n",
    "    'rsds': 'radiation_global',\n",
    "    'tas': 'air_temperature_mean',\n",
    "    'tasmax': 'air_temperature_max',\n",
    "    'tasmin': 'air_temperature_min'\n",
    "}\n",
    "\n",
    "def download_hyras(variable: str, year: int) -> str:\n",
    "    # build the filename \n",
    "    filename = f\"{variable}_hyras_{1 if variable in ('pr') else 5}_{year}_v{3 if variable == 'rsds' else 5}-0_de.nc\"\n",
    "    \n",
    "    # check if that file exists in the local cache\n",
    "    path = Path(local_hyras_cache) / filename\n",
    "    if path.exists():\n",
    "        return str(path)\n",
    "\n",
    "    # if not, download from DWD open data server\n",
    "    url = f\"{base_url}/{VAR_MAP[variable]}/{filename}\"\n",
    "\n",
    "    # download\n",
    "    response = httpx.get(url)\n",
    "\n",
    "    # if we successfully downloaded the file, hooray\n",
    "    if response.status_code == 200:\n",
    "        with open(path, 'wb') as f:\n",
    "            f.write(response.content)\n",
    "        \n",
    "        # return\n",
    "        return str(path)\n",
    "\n",
    "    raise FileNotFoundError(f\"Failed to load {variable} for {year}. (Tested: {url}).\")\n"
   ]
  },
  {
   "cell_type": "code",
   "execution_count": 6,
   "metadata": {},
   "outputs": [
    {
     "data": {
      "text/html": [
       "<div>\n",
       "<style scoped>\n",
       "    .dataframe tbody tr th:only-of-type {\n",
       "        vertical-align: middle;\n",
       "    }\n",
       "\n",
       "    .dataframe tbody tr th {\n",
       "        vertical-align: top;\n",
       "    }\n",
       "\n",
       "    .dataframe thead th {\n",
       "        text-align: right;\n",
       "    }\n",
       "</style>\n",
       "<table border=\"1\" class=\"dataframe\">\n",
       "  <thead>\n",
       "    <tr style=\"text-align: right;\">\n",
       "      <th></th>\n",
       "      <th>id</th>\n",
       "      <th>name</th>\n",
       "      <th>result</th>\n",
       "      <th>area_calc</th>\n",
       "      <th>area_reported</th>\n",
       "      <th>geometry</th>\n",
       "      <th>oid</th>\n",
       "    </tr>\n",
       "  </thead>\n",
       "  <tbody>\n",
       "    <tr>\n",
       "      <th>672</th>\n",
       "      <td>DEE11200</td>\n",
       "      <td>Löben</td>\n",
       "      <td>High Res</td>\n",
       "      <td>3370.0</td>\n",
       "      <td>4332.0</td>\n",
       "      <td>POLYGON ((4210400.561 2772027.790, 4210400.561...</td>\n",
       "      <td>672.0</td>\n",
       "    </tr>\n",
       "  </tbody>\n",
       "</table>\n",
       "</div>"
      ],
      "text/plain": [
       "           id   name    result  area_calc  area_reported  \\\n",
       "672  DEE11200  Löben  High Res     3370.0         4332.0   \n",
       "\n",
       "                                              geometry    oid  \n",
       "672  POLYGON ((4210400.561 2772027.790, 4210400.561...  672.0  "
      ]
     },
     "execution_count": 6,
     "metadata": {},
     "output_type": "execute_result"
    }
   ],
   "source": [
    "# read the catchments\n",
    "catchments = gpd.read_file(catchments_path)\n",
    "\n",
    "# add an numerical object id to the catchments\n",
    "catchments['oid'] = range(len(catchments))\n",
    "\n",
    "# filter for the requested catchment and reproject to hyras CRS \n",
    "catchment = catchments.where(catchments.id == catchment_id).dropna().to_crs('epsg:3034')\n",
    "\n",
    "catchment"
   ]
  },
  {
   "cell_type": "code",
   "execution_count": 7,
   "metadata": {},
   "outputs": [
    {
     "name": "stdout",
     "output_type": "stream",
     "text": [
      "Using resolution (-500, 500)\n"
     ]
    },
    {
     "data": {
      "image/png": "[encoded data removed]",
      "text/plain": [
       "<Figure size 640x480 with 2 Axes>"
      ]
     },
     "metadata": {},
     "output_type": "display_data"
    }
   ],
   "source": [
    "# build a geocube for that catchment with the correct grid resolution\n",
    "resolution = (-500, 500) if variable == 'pr' else (-2500, 2500)\n",
    "print(f'Using resolution {resolution}')\n",
    "\n",
    "cube = make_geocube(\n",
    "    vector_data=catchment,\n",
    "    measurements=['oid'],\n",
    "    resolution=resolution\n",
    ")\n",
    "\n",
    "# plot a preview\n",
    "cube.oid.plot()\n",
    "\n",
    "# save the parquet file\n",
    "cube.to_dataframe().reset_index()[['x', 'y', 'oid']].dropna().to_parquet(f'{catchment_id}.parquet')"
   ]
  },
  {
   "cell_type": "code",
   "execution_count": 8,
   "metadata": {},
   "outputs": [
    {
     "name": "stdout",
     "output_type": "stream",
     "text": [
      "BBOX (4205250, 4281250, 2706250, 2785750)\n"
     ]
    }
   ],
   "source": [
    "# generate the Bounding box\n",
    "xmin = int(cube.x.min().values)\n",
    "xmax = int(cube.x.max().values)\n",
    "ymin = int(cube.y.min().values)\n",
    "ymax = int(cube.y.max().values)\n",
    "\n",
    "print(f\"BBOX ({xmin}, {xmax}, {ymin}, {ymax})\")"
   ]
  },
  {
   "cell_type": "markdown",
   "metadata": {},
   "source": [
    "## duckdb clip"
   ]
  },
  {
   "cell_type": "code",
   "execution_count": 9,
   "metadata": {},
   "outputs": [
    {
     "name": "stdout",
     "output_type": "stream",
     "text": [
      "\n",
      "insert into pr\n",
      "with tmp as (\n",
      "    select \n",
      "        time, \n",
      "        (x - 500, y - 500, x + 500, y + 500)::box_2d as cell, \n",
      "        pr\n",
      "    from 'pr.parquet'\n",
      ")\n",
      "select * from tmp where exists (select 1 from catchment where st_within(point, cell));\n",
      "\n"
     ]
    }
   ],
   "source": [
    "# prepare the query\n",
    "SQL = f\"\"\"\n",
    "insert into {variable}\n",
    "with tmp as (\n",
    "    select \n",
    "        time, \n",
    "        (x - {resolution[1]}, y - {resolution[1]}, x + {resolution[1]}, y + {resolution[1]})::box_2d as cell, \n",
    "        {variable}\n",
    "    from '{variable}.parquet'\n",
    ")\n",
    "select * from tmp where exists (select 1 from catchment where st_within(point, cell));\n",
    "\"\"\"\n",
    "\n",
    "print(SQL)"
   ]
  },
  {
   "cell_type": "code",
   "execution_count": 10,
   "metadata": {},
   "outputs": [
    {
     "name": "stderr",
     "output_type": "stream",
     "text": [
      "  3%|▎         | 2/74 [00:00<00:17,  4.05it/s]"
     ]
    },
    {
     "name": "stdout",
     "output_type": "stream",
     "text": [
      "Failed to load pr for 1950. (Tested: https://opendata.dwd.de/climate_environment/CDC/grids_germany/daily/hyras_de/preciptation/pr_hyras_1_1950_v5-0_de.nc).\n",
      "Failed to load pr for 1951. (Tested: https://opendata.dwd.de/climate_environment/CDC/grids_germany/daily/hyras_de/preciptation/pr_hyras_1_1951_v5-0_de.nc).\n"
     ]
    },
    {
     "name": "stderr",
     "output_type": "stream",
     "text": [
      "  5%|▌         | 4/74 [00:00<00:13,  5.09it/s]"
     ]
    },
    {
     "name": "stdout",
     "output_type": "stream",
     "text": [
      "Failed to load pr for 1952. (Tested: https://opendata.dwd.de/climate_environment/CDC/grids_germany/daily/hyras_de/preciptation/pr_hyras_1_1952_v5-0_de.nc).\n",
      "Failed to load pr for 1953. (Tested: https://opendata.dwd.de/climate_environment/CDC/grids_germany/daily/hyras_de/preciptation/pr_hyras_1_1953_v5-0_de.nc).\n"
     ]
    },
    {
     "name": "stderr",
     "output_type": "stream",
     "text": [
      "  8%|▊         | 6/74 [00:01<00:12,  5.64it/s]"
     ]
    },
    {
     "name": "stdout",
     "output_type": "stream",
     "text": [
      "Failed to load pr for 1954. (Tested: https://opendata.dwd.de/climate_environment/CDC/grids_germany/daily/hyras_de/preciptation/pr_hyras_1_1954_v5-0_de.nc).\n",
      "Failed to load pr for 1955. (Tested: https://opendata.dwd.de/climate_environment/CDC/grids_germany/daily/hyras_de/preciptation/pr_hyras_1_1955_v5-0_de.nc).\n"
     ]
    },
    {
     "name": "stderr",
     "output_type": "stream",
     "text": [
      " 11%|█         | 8/74 [00:01<00:12,  5.10it/s]"
     ]
    },
    {
     "name": "stdout",
     "output_type": "stream",
     "text": [
      "Failed to load pr for 1956. (Tested: https://opendata.dwd.de/climate_environment/CDC/grids_germany/daily/hyras_de/preciptation/pr_hyras_1_1956_v5-0_de.nc).\n",
      "Failed to load pr for 1957. (Tested: https://opendata.dwd.de/climate_environment/CDC/grids_germany/daily/hyras_de/preciptation/pr_hyras_1_1957_v5-0_de.nc).\n"
     ]
    },
    {
     "name": "stderr",
     "output_type": "stream",
     "text": [
      " 14%|█▎        | 10/74 [00:01<00:11,  5.53it/s]"
     ]
    },
    {
     "name": "stdout",
     "output_type": "stream",
     "text": [
      "Failed to load pr for 1958. (Tested: https://opendata.dwd.de/climate_environment/CDC/grids_germany/daily/hyras_de/preciptation/pr_hyras_1_1958_v5-0_de.nc).\n",
      "Failed to load pr for 1959. (Tested: https://opendata.dwd.de/climate_environment/CDC/grids_germany/daily/hyras_de/preciptation/pr_hyras_1_1959_v5-0_de.nc).\n"
     ]
    },
    {
     "name": "stderr",
     "output_type": "stream",
     "text": [
      " 16%|█▌        | 12/74 [00:02<00:10,  5.74it/s]"
     ]
    },
    {
     "name": "stdout",
     "output_type": "stream",
     "text": [
      "Failed to load pr for 1960. (Tested: https://opendata.dwd.de/climate_environment/CDC/grids_germany/daily/hyras_de/preciptation/pr_hyras_1_1960_v5-0_de.nc).\n",
      "Failed to load pr for 1961. (Tested: https://opendata.dwd.de/climate_environment/CDC/grids_germany/daily/hyras_de/preciptation/pr_hyras_1_1961_v5-0_de.nc).\n"
     ]
    },
    {
     "name": "stderr",
     "output_type": "stream",
     "text": [
      " 19%|█▉        | 14/74 [00:02<00:10,  6.00it/s]"
     ]
    },
    {
     "name": "stdout",
     "output_type": "stream",
     "text": [
      "Failed to load pr for 1962. (Tested: https://opendata.dwd.de/climate_environment/CDC/grids_germany/daily/hyras_de/preciptation/pr_hyras_1_1962_v5-0_de.nc).\n",
      "Failed to load pr for 1963. (Tested: https://opendata.dwd.de/climate_environment/CDC/grids_germany/daily/hyras_de/preciptation/pr_hyras_1_1963_v5-0_de.nc).\n"
     ]
    },
    {
     "name": "stderr",
     "output_type": "stream",
     "text": [
      " 22%|██▏       | 16/74 [00:02<00:09,  6.07it/s]"
     ]
    },
    {
     "name": "stdout",
     "output_type": "stream",
     "text": [
      "Failed to load pr for 1964. (Tested: https://opendata.dwd.de/climate_environment/CDC/grids_germany/daily/hyras_de/preciptation/pr_hyras_1_1964_v5-0_de.nc).\n",
      "Failed to load pr for 1965. (Tested: https://opendata.dwd.de/climate_environment/CDC/grids_germany/daily/hyras_de/preciptation/pr_hyras_1_1965_v5-0_de.nc).\n"
     ]
    },
    {
     "name": "stderr",
     "output_type": "stream",
     "text": [
      " 24%|██▍       | 18/74 [00:03<00:09,  6.21it/s]"
     ]
    },
    {
     "name": "stdout",
     "output_type": "stream",
     "text": [
      "Failed to load pr for 1966. (Tested: https://opendata.dwd.de/climate_environment/CDC/grids_germany/daily/hyras_de/preciptation/pr_hyras_1_1966_v5-0_de.nc).\n",
      "Failed to load pr for 1967. (Tested: https://opendata.dwd.de/climate_environment/CDC/grids_germany/daily/hyras_de/preciptation/pr_hyras_1_1967_v5-0_de.nc).\n"
     ]
    },
    {
     "name": "stderr",
     "output_type": "stream",
     "text": [
      " 27%|██▋       | 20/74 [00:03<00:08,  6.21it/s]"
     ]
    },
    {
     "name": "stdout",
     "output_type": "stream",
     "text": [
      "Failed to load pr for 1968. (Tested: https://opendata.dwd.de/climate_environment/CDC/grids_germany/daily/hyras_de/preciptation/pr_hyras_1_1968_v5-0_de.nc).\n",
      "Failed to load pr for 1969. (Tested: https://opendata.dwd.de/climate_environment/CDC/grids_germany/daily/hyras_de/preciptation/pr_hyras_1_1969_v5-0_de.nc).\n"
     ]
    },
    {
     "name": "stderr",
     "output_type": "stream",
     "text": [
      " 30%|██▉       | 22/74 [00:03<00:08,  5.93it/s]"
     ]
    },
    {
     "name": "stdout",
     "output_type": "stream",
     "text": [
      "Failed to load pr for 1970. (Tested: https://opendata.dwd.de/climate_environment/CDC/grids_germany/daily/hyras_de/preciptation/pr_hyras_1_1970_v5-0_de.nc).\n",
      "Failed to load pr for 1971. (Tested: https://opendata.dwd.de/climate_environment/CDC/grids_germany/daily/hyras_de/preciptation/pr_hyras_1_1971_v5-0_de.nc).\n"
     ]
    },
    {
     "name": "stderr",
     "output_type": "stream",
     "text": [
      " 32%|███▏      | 24/74 [00:04<00:08,  5.68it/s]"
     ]
    },
    {
     "name": "stdout",
     "output_type": "stream",
     "text": [
      "Failed to load pr for 1972. (Tested: https://opendata.dwd.de/climate_environment/CDC/grids_germany/daily/hyras_de/preciptation/pr_hyras_1_1972_v5-0_de.nc).\n",
      "Failed to load pr for 1973. (Tested: https://opendata.dwd.de/climate_environment/CDC/grids_germany/daily/hyras_de/preciptation/pr_hyras_1_1973_v5-0_de.nc).\n"
     ]
    },
    {
     "name": "stderr",
     "output_type": "stream",
     "text": [
      " 35%|███▌      | 26/74 [00:04<00:07,  6.07it/s]"
     ]
    },
    {
     "name": "stdout",
     "output_type": "stream",
     "text": [
      "Failed to load pr for 1974. (Tested: https://opendata.dwd.de/climate_environment/CDC/grids_germany/daily/hyras_de/preciptation/pr_hyras_1_1974_v5-0_de.nc).\n",
      "Failed to load pr for 1975. (Tested: https://opendata.dwd.de/climate_environment/CDC/grids_germany/daily/hyras_de/preciptation/pr_hyras_1_1975_v5-0_de.nc).\n"
     ]
    },
    {
     "name": "stderr",
     "output_type": "stream",
     "text": [
      " 38%|███▊      | 28/74 [00:04<00:07,  6.21it/s]"
     ]
    },
    {
     "name": "stdout",
     "output_type": "stream",
     "text": [
      "Failed to load pr for 1976. (Tested: https://opendata.dwd.de/climate_environment/CDC/grids_germany/daily/hyras_de/preciptation/pr_hyras_1_1976_v5-0_de.nc).\n",
      "Failed to load pr for 1977. (Tested: https://opendata.dwd.de/climate_environment/CDC/grids_germany/daily/hyras_de/preciptation/pr_hyras_1_1977_v5-0_de.nc).\n"
     ]
    },
    {
     "name": "stderr",
     "output_type": "stream",
     "text": [
      " 41%|████      | 30/74 [00:05<00:07,  6.23it/s]"
     ]
    },
    {
     "name": "stdout",
     "output_type": "stream",
     "text": [
      "Failed to load pr for 1978. (Tested: https://opendata.dwd.de/climate_environment/CDC/grids_germany/daily/hyras_de/preciptation/pr_hyras_1_1978_v5-0_de.nc).\n",
      "Failed to load pr for 1979. (Tested: https://opendata.dwd.de/climate_environment/CDC/grids_germany/daily/hyras_de/preciptation/pr_hyras_1_1979_v5-0_de.nc).\n"
     ]
    },
    {
     "name": "stderr",
     "output_type": "stream",
     "text": [
      " 43%|████▎     | 32/74 [00:05<00:06,  6.19it/s]"
     ]
    },
    {
     "name": "stdout",
     "output_type": "stream",
     "text": [
      "Failed to load pr for 1980. (Tested: https://opendata.dwd.de/climate_environment/CDC/grids_germany/daily/hyras_de/preciptation/pr_hyras_1_1980_v5-0_de.nc).\n",
      "Failed to load pr for 1981. (Tested: https://opendata.dwd.de/climate_environment/CDC/grids_germany/daily/hyras_de/preciptation/pr_hyras_1_1981_v5-0_de.nc).\n"
     ]
    },
    {
     "name": "stderr",
     "output_type": "stream",
     "text": [
      " 46%|████▌     | 34/74 [00:05<00:06,  6.45it/s]"
     ]
    },
    {
     "name": "stdout",
     "output_type": "stream",
     "text": [
      "Failed to load pr for 1982. (Tested: https://opendata.dwd.de/climate_environment/CDC/grids_germany/daily/hyras_de/preciptation/pr_hyras_1_1982_v5-0_de.nc).\n",
      "Failed to load pr for 1983. (Tested: https://opendata.dwd.de/climate_environment/CDC/grids_germany/daily/hyras_de/preciptation/pr_hyras_1_1983_v5-0_de.nc).\n"
     ]
    },
    {
     "name": "stderr",
     "output_type": "stream",
     "text": [
      " 49%|████▊     | 36/74 [00:06<00:06,  6.18it/s]"
     ]
    },
    {
     "name": "stdout",
     "output_type": "stream",
     "text": [
      "Failed to load pr for 1984. (Tested: https://opendata.dwd.de/climate_environment/CDC/grids_germany/daily/hyras_de/preciptation/pr_hyras_1_1984_v5-0_de.nc).\n",
      "Failed to load pr for 1985. (Tested: https://opendata.dwd.de/climate_environment/CDC/grids_germany/daily/hyras_de/preciptation/pr_hyras_1_1985_v5-0_de.nc).\n"
     ]
    },
    {
     "name": "stderr",
     "output_type": "stream",
     "text": [
      " 51%|█████▏    | 38/74 [00:06<00:05,  6.13it/s]"
     ]
    },
    {
     "name": "stdout",
     "output_type": "stream",
     "text": [
      "Failed to load pr for 1986. (Tested: https://opendata.dwd.de/climate_environment/CDC/grids_germany/daily/hyras_de/preciptation/pr_hyras_1_1986_v5-0_de.nc).\n",
      "Failed to load pr for 1987. (Tested: https://opendata.dwd.de/climate_environment/CDC/grids_germany/daily/hyras_de/preciptation/pr_hyras_1_1987_v5-0_de.nc).\n"
     ]
    },
    {
     "name": "stderr",
     "output_type": "stream",
     "text": [
      " 54%|█████▍    | 40/74 [00:06<00:05,  6.26it/s]"
     ]
    },
    {
     "name": "stdout",
     "output_type": "stream",
     "text": [
      "Failed to load pr for 1988. (Tested: https://opendata.dwd.de/climate_environment/CDC/grids_germany/daily/hyras_de/preciptation/pr_hyras_1_1988_v5-0_de.nc).\n",
      "Failed to load pr for 1989. (Tested: https://opendata.dwd.de/climate_environment/CDC/grids_germany/daily/hyras_de/preciptation/pr_hyras_1_1989_v5-0_de.nc).\n"
     ]
    },
    {
     "name": "stderr",
     "output_type": "stream",
     "text": [
      " 57%|█████▋    | 42/74 [00:07<00:05,  6.26it/s]"
     ]
    },
    {
     "name": "stdout",
     "output_type": "stream",
     "text": [
      "Failed to load pr for 1990. (Tested: https://opendata.dwd.de/climate_environment/CDC/grids_germany/daily/hyras_de/preciptation/pr_hyras_1_1990_v5-0_de.nc).\n",
      "Failed to load pr for 1991. (Tested: https://opendata.dwd.de/climate_environment/CDC/grids_germany/daily/hyras_de/preciptation/pr_hyras_1_1991_v5-0_de.nc).\n"
     ]
    },
    {
     "name": "stderr",
     "output_type": "stream",
     "text": [
      " 59%|█████▉    | 44/74 [00:07<00:04,  6.25it/s]"
     ]
    },
    {
     "name": "stdout",
     "output_type": "stream",
     "text": [
      "Failed to load pr for 1992. (Tested: https://opendata.dwd.de/climate_environment/CDC/grids_germany/daily/hyras_de/preciptation/pr_hyras_1_1992_v5-0_de.nc).\n",
      "Failed to load pr for 1993. (Tested: https://opendata.dwd.de/climate_environment/CDC/grids_germany/daily/hyras_de/preciptation/pr_hyras_1_1993_v5-0_de.nc).\n"
     ]
    },
    {
     "name": "stderr",
     "output_type": "stream",
     "text": [
      " 62%|██████▏   | 46/74 [00:07<00:04,  6.27it/s]"
     ]
    },
    {
     "name": "stdout",
     "output_type": "stream",
     "text": [
      "Failed to load pr for 1994. (Tested: https://opendata.dwd.de/climate_environment/CDC/grids_germany/daily/hyras_de/preciptation/pr_hyras_1_1994_v5-0_de.nc).\n",
      "Failed to load pr for 1995. (Tested: https://opendata.dwd.de/climate_environment/CDC/grids_germany/daily/hyras_de/preciptation/pr_hyras_1_1995_v5-0_de.nc).\n"
     ]
    },
    {
     "name": "stderr",
     "output_type": "stream",
     "text": [
      " 65%|██████▍   | 48/74 [00:08<00:04,  6.21it/s]"
     ]
    },
    {
     "name": "stdout",
     "output_type": "stream",
     "text": [
      "Failed to load pr for 1996. (Tested: https://opendata.dwd.de/climate_environment/CDC/grids_germany/daily/hyras_de/preciptation/pr_hyras_1_1996_v5-0_de.nc).\n",
      "Failed to load pr for 1997. (Tested: https://opendata.dwd.de/climate_environment/CDC/grids_germany/daily/hyras_de/preciptation/pr_hyras_1_1997_v5-0_de.nc).\n"
     ]
    },
    {
     "name": "stderr",
     "output_type": "stream",
     "text": [
      " 68%|██████▊   | 50/74 [00:08<00:03,  6.40it/s]"
     ]
    },
    {
     "name": "stdout",
     "output_type": "stream",
     "text": [
      "Failed to load pr for 1998. (Tested: https://opendata.dwd.de/climate_environment/CDC/grids_germany/daily/hyras_de/preciptation/pr_hyras_1_1998_v5-0_de.nc).\n",
      "Failed to load pr for 1999. (Tested: https://opendata.dwd.de/climate_environment/CDC/grids_germany/daily/hyras_de/preciptation/pr_hyras_1_1999_v5-0_de.nc).\n"
     ]
    },
    {
     "name": "stderr",
     "output_type": "stream",
     "text": [
      " 70%|███████   | 52/74 [00:08<00:03,  6.69it/s]"
     ]
    },
    {
     "name": "stdout",
     "output_type": "stream",
     "text": [
      "Failed to load pr for 2000. (Tested: https://opendata.dwd.de/climate_environment/CDC/grids_germany/daily/hyras_de/preciptation/pr_hyras_1_2000_v5-0_de.nc).\n",
      "Failed to load pr for 2001. (Tested: https://opendata.dwd.de/climate_environment/CDC/grids_germany/daily/hyras_de/preciptation/pr_hyras_1_2001_v5-0_de.nc).\n"
     ]
    },
    {
     "name": "stderr",
     "output_type": "stream",
     "text": [
      " 73%|███████▎  | 54/74 [00:09<00:03,  6.22it/s]"
     ]
    },
    {
     "name": "stdout",
     "output_type": "stream",
     "text": [
      "Failed to load pr for 2002. (Tested: https://opendata.dwd.de/climate_environment/CDC/grids_germany/daily/hyras_de/preciptation/pr_hyras_1_2002_v5-0_de.nc).\n",
      "Failed to load pr for 2003. (Tested: https://opendata.dwd.de/climate_environment/CDC/grids_germany/daily/hyras_de/preciptation/pr_hyras_1_2003_v5-0_de.nc).\n"
     ]
    },
    {
     "name": "stderr",
     "output_type": "stream",
     "text": [
      " 76%|███████▌  | 56/74 [00:09<00:02,  6.41it/s]"
     ]
    },
    {
     "name": "stdout",
     "output_type": "stream",
     "text": [
      "Failed to load pr for 2004. (Tested: https://opendata.dwd.de/climate_environment/CDC/grids_germany/daily/hyras_de/preciptation/pr_hyras_1_2004_v5-0_de.nc).\n",
      "Failed to load pr for 2005. (Tested: https://opendata.dwd.de/climate_environment/CDC/grids_germany/daily/hyras_de/preciptation/pr_hyras_1_2005_v5-0_de.nc).\n"
     ]
    },
    {
     "name": "stderr",
     "output_type": "stream",
     "text": [
      " 78%|███████▊  | 58/74 [00:09<00:02,  6.28it/s]"
     ]
    },
    {
     "name": "stdout",
     "output_type": "stream",
     "text": [
      "Failed to load pr for 2006. (Tested: https://opendata.dwd.de/climate_environment/CDC/grids_germany/daily/hyras_de/preciptation/pr_hyras_1_2006_v5-0_de.nc).\n",
      "Failed to load pr for 2007. (Tested: https://opendata.dwd.de/climate_environment/CDC/grids_germany/daily/hyras_de/preciptation/pr_hyras_1_2007_v5-0_de.nc).\n"
     ]
    },
    {
     "name": "stderr",
     "output_type": "stream",
     "text": [
      " 81%|████████  | 60/74 [00:10<00:02,  6.40it/s]"
     ]
    },
    {
     "name": "stdout",
     "output_type": "stream",
     "text": [
      "Failed to load pr for 2008. (Tested: https://opendata.dwd.de/climate_environment/CDC/grids_germany/daily/hyras_de/preciptation/pr_hyras_1_2008_v5-0_de.nc).\n",
      "Failed to load pr for 2009. (Tested: https://opendata.dwd.de/climate_environment/CDC/grids_germany/daily/hyras_de/preciptation/pr_hyras_1_2009_v5-0_de.nc).\n"
     ]
    },
    {
     "name": "stderr",
     "output_type": "stream",
     "text": [
      " 82%|████████▏ | 61/74 [00:10<00:02,  5.98it/s]"
     ]
    },
    {
     "name": "stdout",
     "output_type": "stream",
     "text": [
      "Failed to load pr for 2010. (Tested: https://opendata.dwd.de/climate_environment/CDC/grids_germany/daily/hyras_de/preciptation/pr_hyras_1_2010_v5-0_de.nc).\n"
     ]
    },
    {
     "name": "stderr",
     "output_type": "stream",
     "text": [
      " 85%|████████▌ | 63/74 [00:10<00:02,  5.27it/s]"
     ]
    },
    {
     "name": "stdout",
     "output_type": "stream",
     "text": [
      "Failed to load pr for 2011. (Tested: https://opendata.dwd.de/climate_environment/CDC/grids_germany/daily/hyras_de/preciptation/pr_hyras_1_2011_v5-0_de.nc).\n",
      "Failed to load pr for 2012. (Tested: https://opendata.dwd.de/climate_environment/CDC/grids_germany/daily/hyras_de/preciptation/pr_hyras_1_2012_v5-0_de.nc).\n"
     ]
    },
    {
     "name": "stderr",
     "output_type": "stream",
     "text": [
      " 88%|████████▊ | 65/74 [00:10<00:01,  5.81it/s]"
     ]
    },
    {
     "name": "stdout",
     "output_type": "stream",
     "text": [
      "Failed to load pr for 2013. (Tested: https://opendata.dwd.de/climate_environment/CDC/grids_germany/daily/hyras_de/preciptation/pr_hyras_1_2013_v5-0_de.nc).\n",
      "Failed to load pr for 2014. (Tested: https://opendata.dwd.de/climate_environment/CDC/grids_germany/daily/hyras_de/preciptation/pr_hyras_1_2014_v5-0_de.nc).\n"
     ]
    },
    {
     "name": "stderr",
     "output_type": "stream",
     "text": [
      " 91%|█████████ | 67/74 [00:11<00:01,  5.73it/s]"
     ]
    },
    {
     "name": "stdout",
     "output_type": "stream",
     "text": [
      "Failed to load pr for 2015. (Tested: https://opendata.dwd.de/climate_environment/CDC/grids_germany/daily/hyras_de/preciptation/pr_hyras_1_2015_v5-0_de.nc).\n",
      "Failed to load pr for 2016. (Tested: https://opendata.dwd.de/climate_environment/CDC/grids_germany/daily/hyras_de/preciptation/pr_hyras_1_2016_v5-0_de.nc).\n"
     ]
    },
    {
     "name": "stderr",
     "output_type": "stream",
     "text": [
      " 93%|█████████▎| 69/74 [00:11<00:00,  5.84it/s]"
     ]
    },
    {
     "name": "stdout",
     "output_type": "stream",
     "text": [
      "Failed to load pr for 2017. (Tested: https://opendata.dwd.de/climate_environment/CDC/grids_germany/daily/hyras_de/preciptation/pr_hyras_1_2017_v5-0_de.nc).\n",
      "Failed to load pr for 2018. (Tested: https://opendata.dwd.de/climate_environment/CDC/grids_germany/daily/hyras_de/preciptation/pr_hyras_1_2018_v5-0_de.nc).\n"
     ]
    },
    {
     "name": "stderr",
     "output_type": "stream",
     "text": [
      " 96%|█████████▌| 71/74 [00:11<00:00,  5.97it/s]"
     ]
    },
    {
     "name": "stdout",
     "output_type": "stream",
     "text": [
      "Failed to load pr for 2019. (Tested: https://opendata.dwd.de/climate_environment/CDC/grids_germany/daily/hyras_de/preciptation/pr_hyras_1_2019_v5-0_de.nc).\n",
      "Failed to load pr for 2020. (Tested: https://opendata.dwd.de/climate_environment/CDC/grids_germany/daily/hyras_de/preciptation/pr_hyras_1_2020_v5-0_de.nc).\n"
     ]
    },
    {
     "name": "stderr",
     "output_type": "stream",
     "text": [
      " 99%|█████████▊| 73/74 [00:12<00:00,  6.01it/s]"
     ]
    },
    {
     "name": "stdout",
     "output_type": "stream",
     "text": [
      "Failed to load pr for 2021. (Tested: https://opendata.dwd.de/climate_environment/CDC/grids_germany/daily/hyras_de/preciptation/pr_hyras_1_2021_v5-0_de.nc).\n",
      "Failed to load pr for 2022. (Tested: https://opendata.dwd.de/climate_environment/CDC/grids_germany/daily/hyras_de/preciptation/pr_hyras_1_2022_v5-0_de.nc).\n"
     ]
    },
    {
     "name": "stderr",
     "output_type": "stream",
     "text": [
      "100%|██████████| 74/74 [00:12<00:00,  5.95it/s]"
     ]
    },
    {
     "name": "stdout",
     "output_type": "stream",
     "text": [
      "Failed to load pr for 2023. (Tested: https://opendata.dwd.de/climate_environment/CDC/grids_germany/daily/hyras_de/preciptation/pr_hyras_1_2023_v5-0_de.nc).\n",
      "DONE.\n",
      "Had 74 warnings:\n",
      " - Failed to load pr for 1950. (Tested: https://opendata.dwd.de/climate_environment/CDC/grids_germany/daily/hyras_de/preciptation/pr_hyras_1_1950_v5-0_de.nc).\n",
      " - Failed to load pr for 1951. (Tested: https://opendata.dwd.de/climate_environment/CDC/grids_germany/daily/hyras_de/preciptation/pr_hyras_1_1951_v5-0_de.nc).\n",
      " - Failed to load pr for 1952. (Tested: https://opendata.dwd.de/climate_environment/CDC/grids_germany/daily/hyras_de/preciptation/pr_hyras_1_1952_v5-0_de.nc).\n",
      " - Failed to load pr for 1953. (Tested: https://opendata.dwd.de/climate_environment/CDC/grids_germany/daily/hyras_de/preciptation/pr_hyras_1_1953_v5-0_de.nc).\n",
      " - Failed to load pr for 1954. (Tested: https://opendata.dwd.de/climate_environment/CDC/grids_germany/daily/hyras_de/preciptation/pr_hyras_1_1954_v5-0_de.nc).\n",
      " - Failed to load pr for 1955. (Tested: https://opendata.dwd.de/climate_environment/CDC/grids_germany/daily/hyras_de/preciptation/pr_hyras_1_1955_v5-0_de.nc).\n",
      " - Failed to load pr for 1956. (Tested: https://opendata.dwd.de/climate_environment/CDC/grids_germany/daily/hyras_de/preciptation/pr_hyras_1_1956_v5-0_de.nc).\n",
      " - Failed to load pr for 1957. (Tested: https://opendata.dwd.de/climate_environment/CDC/grids_germany/daily/hyras_de/preciptation/pr_hyras_1_1957_v5-0_de.nc).\n",
      " - Failed to load pr for 1958. (Tested: https://opendata.dwd.de/climate_environment/CDC/grids_germany/daily/hyras_de/preciptation/pr_hyras_1_1958_v5-0_de.nc).\n",
      " - Failed to load pr for 1959. (Tested: https://opendata.dwd.de/climate_environment/CDC/grids_germany/daily/hyras_de/preciptation/pr_hyras_1_1959_v5-0_de.nc).\n",
      " - Failed to load pr for 1960. (Tested: https://opendata.dwd.de/climate_environment/CDC/grids_germany/daily/hyras_de/preciptation/pr_hyras_1_1960_v5-0_de.nc).\n",
      " - Failed to load pr for 1961. (Tested: https://opendata.dwd.de/climate_environment/CDC/grids_germany/daily/hyras_de/preciptation/pr_hyras_1_1961_v5-0_de.nc).\n",
      " - Failed to load pr for 1962. (Tested: https://opendata.dwd.de/climate_environment/CDC/grids_germany/daily/hyras_de/preciptation/pr_hyras_1_1962_v5-0_de.nc).\n",
      " - Failed to load pr for 1963. (Tested: https://opendata.dwd.de/climate_environment/CDC/grids_germany/daily/hyras_de/preciptation/pr_hyras_1_1963_v5-0_de.nc).\n",
      " - Failed to load pr for 1964. (Tested: https://opendata.dwd.de/climate_environment/CDC/grids_germany/daily/hyras_de/preciptation/pr_hyras_1_1964_v5-0_de.nc).\n",
      " - Failed to load pr for 1965. (Tested: https://opendata.dwd.de/climate_environment/CDC/grids_germany/daily/hyras_de/preciptation/pr_hyras_1_1965_v5-0_de.nc).\n",
      " - Failed to load pr for 1966. (Tested: https://opendata.dwd.de/climate_environment/CDC/grids_germany/daily/hyras_de/preciptation/pr_hyras_1_1966_v5-0_de.nc).\n",
      " - Failed to load pr for 1967. (Tested: https://opendata.dwd.de/climate_environment/CDC/grids_germany/daily/hyras_de/preciptation/pr_hyras_1_1967_v5-0_de.nc).\n",
      " - Failed to load pr for 1968. (Tested: https://opendata.dwd.de/climate_environment/CDC/grids_germany/daily/hyras_de/preciptation/pr_hyras_1_1968_v5-0_de.nc).\n",
      " - Failed to load pr for 1969. (Tested: https://opendata.dwd.de/climate_environment/CDC/grids_germany/daily/hyras_de/preciptation/pr_hyras_1_1969_v5-0_de.nc).\n",
      " - Failed to load pr for 1970. (Tested: https://opendata.dwd.de/climate_environment/CDC/grids_germany/daily/hyras_de/preciptation/pr_hyras_1_1970_v5-0_de.nc).\n",
      " - Failed to load pr for 1971. (Tested: https://opendata.dwd.de/climate_environment/CDC/grids_germany/daily/hyras_de/preciptation/pr_hyras_1_1971_v5-0_de.nc).\n",
      " - Failed to load pr for 1972. (Tested: https://opendata.dwd.de/climate_environment/CDC/grids_germany/daily/hyras_de/preciptation/pr_hyras_1_1972_v5-0_de.nc).\n",
      " - Failed to load pr for 1973. (Tested: https://opendata.dwd.de/climate_environment/CDC/grids_germany/daily/hyras_de/preciptation/pr_hyras_1_1973_v5-0_de.nc).\n",
      " - Failed to load pr for 1974. (Tested: https://opendata.dwd.de/climate_environment/CDC/grids_germany/daily/hyras_de/preciptation/pr_hyras_1_1974_v5-0_de.nc).\n",
      " - Failed to load pr for 1975. (Tested: https://opendata.dwd.de/climate_environment/CDC/grids_germany/daily/hyras_de/preciptation/pr_hyras_1_1975_v5-0_de.nc).\n",
      " - Failed to load pr for 1976. (Tested: https://opendata.dwd.de/climate_environment/CDC/grids_germany/daily/hyras_de/preciptation/pr_hyras_1_1976_v5-0_de.nc).\n",
      " - Failed to load pr for 1977. (Tested: https://opendata.dwd.de/climate_environment/CDC/grids_germany/daily/hyras_de/preciptation/pr_hyras_1_1977_v5-0_de.nc).\n",
      " - Failed to load pr for 1978. (Tested: https://opendata.dwd.de/climate_environment/CDC/grids_germany/daily/hyras_de/preciptation/pr_hyras_1_1978_v5-0_de.nc).\n",
      " - Failed to load pr for 1979. (Tested: https://opendata.dwd.de/climate_environment/CDC/grids_germany/daily/hyras_de/preciptation/pr_hyras_1_1979_v5-0_de.nc).\n",
      " - Failed to load pr for 1980. (Tested: https://opendata.dwd.de/climate_environment/CDC/grids_germany/daily/hyras_de/preciptation/pr_hyras_1_1980_v5-0_de.nc).\n",
      " - Failed to load pr for 1981. (Tested: https://opendata.dwd.de/climate_environment/CDC/grids_germany/daily/hyras_de/preciptation/pr_hyras_1_1981_v5-0_de.nc).\n",
      " - Failed to load pr for 1982. (Tested: https://opendata.dwd.de/climate_environment/CDC/grids_germany/daily/hyras_de/preciptation/pr_hyras_1_1982_v5-0_de.nc).\n",
      " - Failed to load pr for 1983. (Tested: https://opendata.dwd.de/climate_environment/CDC/grids_germany/daily/hyras_de/preciptation/pr_hyras_1_1983_v5-0_de.nc).\n",
      " - Failed to load pr for 1984. (Tested: https://opendata.dwd.de/climate_environment/CDC/grids_germany/daily/hyras_de/preciptation/pr_hyras_1_1984_v5-0_de.nc).\n",
      " - Failed to load pr for 1985. (Tested: https://opendata.dwd.de/climate_environment/CDC/grids_germany/daily/hyras_de/preciptation/pr_hyras_1_1985_v5-0_de.nc).\n",
      " - Failed to load pr for 1986. (Tested: https://opendata.dwd.de/climate_environment/CDC/grids_germany/daily/hyras_de/preciptation/pr_hyras_1_1986_v5-0_de.nc).\n",
      " - Failed to load pr for 1987. (Tested: https://opendata.dwd.de/climate_environment/CDC/grids_germany/daily/hyras_de/preciptation/pr_hyras_1_1987_v5-0_de.nc).\n",
      " - Failed to load pr for 1988. (Tested: https://opendata.dwd.de/climate_environment/CDC/grids_germany/daily/hyras_de/preciptation/pr_hyras_1_1988_v5-0_de.nc).\n",
      " - Failed to load pr for 1989. (Tested: https://opendata.dwd.de/climate_environment/CDC/grids_germany/daily/hyras_de/preciptation/pr_hyras_1_1989_v5-0_de.nc).\n",
      " - Failed to load pr for 1990. (Tested: https://opendata.dwd.de/climate_environment/CDC/grids_germany/daily/hyras_de/preciptation/pr_hyras_1_1990_v5-0_de.nc).\n",
      " - Failed to load pr for 1991. (Tested: https://opendata.dwd.de/climate_environment/CDC/grids_germany/daily/hyras_de/preciptation/pr_hyras_1_1991_v5-0_de.nc).\n",
      " - Failed to load pr for 1992. (Tested: https://opendata.dwd.de/climate_environment/CDC/grids_germany/daily/hyras_de/preciptation/pr_hyras_1_1992_v5-0_de.nc).\n",
      " - Failed to load pr for 1993. (Tested: https://opendata.dwd.de/climate_environment/CDC/grids_germany/daily/hyras_de/preciptation/pr_hyras_1_1993_v5-0_de.nc).\n",
      " - Failed to load pr for 1994. (Tested: https://opendata.dwd.de/climate_environment/CDC/grids_germany/daily/hyras_de/preciptation/pr_hyras_1_1994_v5-0_de.nc).\n",
      " - Failed to load pr for 1995. (Tested: https://opendata.dwd.de/climate_environment/CDC/grids_germany/daily/hyras_de/preciptation/pr_hyras_1_1995_v5-0_de.nc).\n",
      " - Failed to load pr for 1996. (Tested: https://opendata.dwd.de/climate_environment/CDC/grids_germany/daily/hyras_de/preciptation/pr_hyras_1_1996_v5-0_de.nc).\n",
      " - Failed to load pr for 1997. (Tested: https://opendata.dwd.de/climate_environment/CDC/grids_germany/daily/hyras_de/preciptation/pr_hyras_1_1997_v5-0_de.nc).\n",
      " - Failed to load pr for 1998. (Tested: https://opendata.dwd.de/climate_environment/CDC/grids_germany/daily/hyras_de/preciptation/pr_hyras_1_1998_v5-0_de.nc).\n",
      " - Failed to load pr for 1999. (Tested: https://opendata.dwd.de/climate_environment/CDC/grids_germany/daily/hyras_de/preciptation/pr_hyras_1_1999_v5-0_de.nc).\n",
      " - Failed to load pr for 2000. (Tested: https://opendata.dwd.de/climate_environment/CDC/grids_germany/daily/hyras_de/preciptation/pr_hyras_1_2000_v5-0_de.nc).\n",
      " - Failed to load pr for 2001. (Tested: https://opendata.dwd.de/climate_environment/CDC/grids_germany/daily/hyras_de/preciptation/pr_hyras_1_2001_v5-0_de.nc).\n",
      " - Failed to load pr for 2002. (Tested: https://opendata.dwd.de/climate_environment/CDC/grids_germany/daily/hyras_de/preciptation/pr_hyras_1_2002_v5-0_de.nc).\n",
      " - Failed to load pr for 2003. (Tested: https://opendata.dwd.de/climate_environment/CDC/grids_germany/daily/hyras_de/preciptation/pr_hyras_1_2003_v5-0_de.nc).\n",
      " - Failed to load pr for 2004. (Tested: https://opendata.dwd.de/climate_environment/CDC/grids_germany/daily/hyras_de/preciptation/pr_hyras_1_2004_v5-0_de.nc).\n",
      " - Failed to load pr for 2005. (Tested: https://opendata.dwd.de/climate_environment/CDC/grids_germany/daily/hyras_de/preciptation/pr_hyras_1_2005_v5-0_de.nc).\n",
      " - Failed to load pr for 2006. (Tested: https://opendata.dwd.de/climate_environment/CDC/grids_germany/daily/hyras_de/preciptation/pr_hyras_1_2006_v5-0_de.nc).\n",
      " - Failed to load pr for 2007. (Tested: https://opendata.dwd.de/climate_environment/CDC/grids_germany/daily/hyras_de/preciptation/pr_hyras_1_2007_v5-0_de.nc).\n",
      " - Failed to load pr for 2008. (Tested: https://opendata.dwd.de/climate_environment/CDC/grids_germany/daily/hyras_de/preciptation/pr_hyras_1_2008_v5-0_de.nc).\n",
      " - Failed to load pr for 2009. (Tested: https://opendata.dwd.de/climate_environment/CDC/grids_germany/daily/hyras_de/preciptation/pr_hyras_1_2009_v5-0_de.nc).\n",
      " - Failed to load pr for 2010. (Tested: https://opendata.dwd.de/climate_environment/CDC/grids_germany/daily/hyras_de/preciptation/pr_hyras_1_2010_v5-0_de.nc).\n",
      " - Failed to load pr for 2011. (Tested: https://opendata.dwd.de/climate_environment/CDC/grids_germany/daily/hyras_de/preciptation/pr_hyras_1_2011_v5-0_de.nc).\n",
      " - Failed to load pr for 2012. (Tested: https://opendata.dwd.de/climate_environment/CDC/grids_germany/daily/hyras_de/preciptation/pr_hyras_1_2012_v5-0_de.nc).\n",
      " - Failed to load pr for 2013. (Tested: https://opendata.dwd.de/climate_environment/CDC/grids_germany/daily/hyras_de/preciptation/pr_hyras_1_2013_v5-0_de.nc).\n",
      " - Failed to load pr for 2014. (Tested: https://opendata.dwd.de/climate_environment/CDC/grids_germany/daily/hyras_de/preciptation/pr_hyras_1_2014_v5-0_de.nc).\n",
      " - Failed to load pr for 2015. (Tested: https://opendata.dwd.de/climate_environment/CDC/grids_germany/daily/hyras_de/preciptation/pr_hyras_1_2015_v5-0_de.nc).\n",
      " - Failed to load pr for 2016. (Tested: https://opendata.dwd.de/climate_environment/CDC/grids_germany/daily/hyras_de/preciptation/pr_hyras_1_2016_v5-0_de.nc).\n",
      " - Failed to load pr for 2017. (Tested: https://opendata.dwd.de/climate_environment/CDC/grids_germany/daily/hyras_de/preciptation/pr_hyras_1_2017_v5-0_de.nc).\n",
      " - Failed to load pr for 2018. (Tested: https://opendata.dwd.de/climate_environment/CDC/grids_germany/daily/hyras_de/preciptation/pr_hyras_1_2018_v5-0_de.nc).\n",
      " - Failed to load pr for 2019. (Tested: https://opendata.dwd.de/climate_environment/CDC/grids_germany/daily/hyras_de/preciptation/pr_hyras_1_2019_v5-0_de.nc).\n",
      " - Failed to load pr for 2020. (Tested: https://opendata.dwd.de/climate_environment/CDC/grids_germany/daily/hyras_de/preciptation/pr_hyras_1_2020_v5-0_de.nc).\n",
      " - Failed to load pr for 2021. (Tested: https://opendata.dwd.de/climate_environment/CDC/grids_germany/daily/hyras_de/preciptation/pr_hyras_1_2021_v5-0_de.nc).\n",
      " - Failed to load pr for 2022. (Tested: https://opendata.dwd.de/climate_environment/CDC/grids_germany/daily/hyras_de/preciptation/pr_hyras_1_2022_v5-0_de.nc).\n",
      " - Failed to load pr for 2023. (Tested: https://opendata.dwd.de/climate_environment/CDC/grids_germany/daily/hyras_de/preciptation/pr_hyras_1_2023_v5-0_de.nc).\n"
     ]
    },
    {
     "name": "stderr",
     "output_type": "stream",
     "text": [
      "\n"
     ]
    }
   ],
   "source": [
    "#\n",
    "# loop through each year\n",
    "warns = []\n",
    "for year in tqdm(range(1950, 2024)):\n",
    "    # download the file if needed\n",
    "    try:\n",
    "        nc_path = download_hyras(variable, year)\n",
    "    except Exception as e:\n",
    "        warns.append(str(e))\n",
    "        print(str(e))\n",
    "        continue\n",
    "    \n",
    "    # open the file\n",
    "    da = xr.open_dataset(nc_path)[variable]\n",
    "    ds = xr.Dataset({variable: da})\n",
    "\n",
    "    # transform to long-format parquet\n",
    "    df = ds.to_dataframe().reset_index()[['time', 'x', 'y', variable]].dropna()\n",
    "    df.where((df.x >= xmin) & (df.x <= xmax) & (df.y >= ymin) & (df.y <= ymax)).dropna().to_parquet(f\"{variable}.parquet\")\n",
    "\n",
    "    # next create the duckdb database\n",
    "    with duckdb.connect(str(local_cache / f'{catchment_id}.db')) as con:\n",
    "        # install the spatial extension\n",
    "        con.install_extension('spatial')\n",
    "        con.load_extension('spatial')\n",
    "        con.execute('SET threads=8;')\n",
    "\n",
    "        # load the catchment\n",
    "        con.execute(f\"CREATE TABLE IF NOT EXISTS catchment AS SELECT oid, st_point(x, y) AS point FROM '{catchment_id}.parquet';\")\n",
    "\n",
    "        # do the magic\n",
    "        con.execute(f\"CREATE TABLE IF NOT EXISTS {variable} (time timestamp, cell box_2d, {variable} double);\")\n",
    "        con.execute(SQL)\n",
    "    \n",
    "    # for now we break\n",
    "    # break\n",
    "\n",
    "print('DONE.')\n",
    "if len(warns) > 0:\n",
    "    print(f'Had {len(warns)} warnings:')\n",
    "    for w in warns:\n",
    "        print(f' - {w}')"
   ]
  },
  {
   "cell_type": "markdown",
   "metadata": {},
   "source": [
    "## Show results"
   ]
  },
  {
   "cell_type": "code",
   "execution_count": 17,
   "metadata": {},
   "outputs": [
    {
     "data": {
      "text/html": [
       "<div>\n",
       "<style scoped>\n",
       "    .dataframe tbody tr th:only-of-type {\n",
       "        vertical-align: middle;\n",
       "    }\n",
       "\n",
       "    .dataframe tbody tr th {\n",
       "        vertical-align: top;\n",
       "    }\n",
       "\n",
       "    .dataframe thead th {\n",
       "        text-align: right;\n",
       "    }\n",
       "</style>\n",
       "<table border=\"1\" class=\"dataframe\">\n",
       "  <thead>\n",
       "    <tr style=\"text-align: right;\">\n",
       "      <th></th>\n",
       "      <th>hurs_mean</th>\n",
       "      <th>hurs_min</th>\n",
       "      <th>hurs_max</th>\n",
       "    </tr>\n",
       "    <tr>\n",
       "      <th>date</th>\n",
       "      <th></th>\n",
       "      <th></th>\n",
       "      <th></th>\n",
       "    </tr>\n",
       "  </thead>\n",
       "  <tbody>\n",
       "    <tr>\n",
       "      <th>1951-01-01</th>\n",
       "      <td>81.583891</td>\n",
       "      <td>78.003998</td>\n",
       "      <td>87.459999</td>\n",
       "    </tr>\n",
       "    <tr>\n",
       "      <th>1951-01-02</th>\n",
       "      <td>84.565342</td>\n",
       "      <td>78.912003</td>\n",
       "      <td>89.615997</td>\n",
       "    </tr>\n",
       "    <tr>\n",
       "      <th>1951-01-03</th>\n",
       "      <td>88.719534</td>\n",
       "      <td>86.292000</td>\n",
       "      <td>91.667999</td>\n",
       "    </tr>\n",
       "    <tr>\n",
       "      <th>1951-01-04</th>\n",
       "      <td>78.588027</td>\n",
       "      <td>74.699997</td>\n",
       "      <td>84.884003</td>\n",
       "    </tr>\n",
       "    <tr>\n",
       "      <th>1951-01-05</th>\n",
       "      <td>87.095891</td>\n",
       "      <td>82.176003</td>\n",
       "      <td>92.311996</td>\n",
       "    </tr>\n",
       "    <tr>\n",
       "      <th>...</th>\n",
       "      <td>...</td>\n",
       "      <td>...</td>\n",
       "      <td>...</td>\n",
       "    </tr>\n",
       "    <tr>\n",
       "      <th>2020-12-27</th>\n",
       "      <td>63.398603</td>\n",
       "      <td>61.287998</td>\n",
       "      <td>67.772003</td>\n",
       "    </tr>\n",
       "    <tr>\n",
       "      <th>2020-12-28</th>\n",
       "      <td>77.502904</td>\n",
       "      <td>74.491997</td>\n",
       "      <td>80.031998</td>\n",
       "    </tr>\n",
       "    <tr>\n",
       "      <th>2020-12-29</th>\n",
       "      <td>81.504192</td>\n",
       "      <td>76.239998</td>\n",
       "      <td>89.975998</td>\n",
       "    </tr>\n",
       "    <tr>\n",
       "      <th>2020-12-30</th>\n",
       "      <td>78.618165</td>\n",
       "      <td>73.528000</td>\n",
       "      <td>84.463997</td>\n",
       "    </tr>\n",
       "    <tr>\n",
       "      <th>2020-12-31</th>\n",
       "      <td>78.913754</td>\n",
       "      <td>75.708000</td>\n",
       "      <td>81.304001</td>\n",
       "    </tr>\n",
       "  </tbody>\n",
       "</table>\n",
       "<p>25568 rows × 3 columns</p>\n",
       "</div>"
      ],
      "text/plain": [
       "            hurs_mean   hurs_min   hurs_max\n",
       "date                                       \n",
       "1951-01-01  81.583891  78.003998  87.459999\n",
       "1951-01-02  84.565342  78.912003  89.615997\n",
       "1951-01-03  88.719534  86.292000  91.667999\n",
       "1951-01-04  78.588027  74.699997  84.884003\n",
       "1951-01-05  87.095891  82.176003  92.311996\n",
       "...               ...        ...        ...\n",
       "2020-12-27  63.398603  61.287998  67.772003\n",
       "2020-12-28  77.502904  74.491997  80.031998\n",
       "2020-12-29  81.504192  76.239998  89.975998\n",
       "2020-12-30  78.618165  73.528000  84.463997\n",
       "2020-12-31  78.913754  75.708000  81.304001\n",
       "\n",
       "[25568 rows x 3 columns]"
      ]
     },
     "execution_count": 17,
     "metadata": {},
     "output_type": "execute_result"
    }
   ],
   "source": [
    "SQL = f\"\"\"\n",
    "select \n",
    "    date_trunc('day', time) as date, \n",
    "    avg({variable}) as {variable}_mean,\n",
    "    min({variable}) as {variable}_min,\n",
    "    max({variable}) as {variable}_max,\n",
    "from {variable} \n",
    "group by date order by date asc;\n",
    "\"\"\"\n",
    "# Load the data to verify it worked\n",
    "with duckdb.connect(str(local_cache / f\"{catchment_id}.db\")) as con:\n",
    "    df = con.sql(SQL).df().set_index('date')\n",
    "\n",
    "df\n",
    "#print(df.describe())\n",
    "#df.plot()"
   ]
  },
  {
   "cell_type": "code",
   "execution_count": 16,
   "metadata": {},
   "outputs": [
    {
     "data": {
      "text/html": [
       "<div>\n",
       "<style scoped>\n",
       "    .dataframe tbody tr th:only-of-type {\n",
       "        vertical-align: middle;\n",
       "    }\n",
       "\n",
       "    .dataframe tbody tr th {\n",
       "        vertical-align: top;\n",
       "    }\n",
       "\n",
       "    .dataframe thead th {\n",
       "        text-align: right;\n",
       "    }\n",
       "</style>\n",
       "<table border=\"1\" class=\"dataframe\">\n",
       "  <thead>\n",
       "    <tr style=\"text-align: right;\">\n",
       "      <th></th>\n",
       "      <th>hurs_mean</th>\n",
       "      <th>hurs_min</th>\n",
       "      <th>hurs_max</th>\n",
       "    </tr>\n",
       "  </thead>\n",
       "  <tbody>\n",
       "    <tr>\n",
       "      <th>count</th>\n",
       "      <td>25568.000000</td>\n",
       "      <td>25568.000000</td>\n",
       "      <td>25568.000000</td>\n",
       "    </tr>\n",
       "    <tr>\n",
       "      <th>mean</th>\n",
       "      <td>77.251217</td>\n",
       "      <td>72.804297</td>\n",
       "      <td>81.711942</td>\n",
       "    </tr>\n",
       "    <tr>\n",
       "      <th>std</th>\n",
       "      <td>11.048529</td>\n",
       "      <td>11.465087</td>\n",
       "      <td>10.686585</td>\n",
       "    </tr>\n",
       "    <tr>\n",
       "      <th>min</th>\n",
       "      <td>35.167014</td>\n",
       "      <td>31.271999</td>\n",
       "      <td>37.596001</td>\n",
       "    </tr>\n",
       "    <tr>\n",
       "      <th>25%</th>\n",
       "      <td>70.061979</td>\n",
       "      <td>65.287001</td>\n",
       "      <td>74.848000</td>\n",
       "    </tr>\n",
       "    <tr>\n",
       "      <th>50%</th>\n",
       "      <td>78.474343</td>\n",
       "      <td>73.980003</td>\n",
       "      <td>83.220001</td>\n",
       "    </tr>\n",
       "    <tr>\n",
       "      <th>75%</th>\n",
       "      <td>85.645931</td>\n",
       "      <td>81.424004</td>\n",
       "      <td>89.980003</td>\n",
       "    </tr>\n",
       "    <tr>\n",
       "      <th>max</th>\n",
       "      <td>98.730986</td>\n",
       "      <td>97.272003</td>\n",
       "      <td>100.000000</td>\n",
       "    </tr>\n",
       "  </tbody>\n",
       "</table>\n",
       "</div>"
      ],
      "text/plain": [
       "          hurs_mean      hurs_min      hurs_max\n",
       "count  25568.000000  25568.000000  25568.000000\n",
       "mean      77.251217     72.804297     81.711942\n",
       "std       11.048529     11.465087     10.686585\n",
       "min       35.167014     31.271999     37.596001\n",
       "25%       70.061979     65.287001     74.848000\n",
       "50%       78.474343     73.980003     83.220001\n",
       "75%       85.645931     81.424004     89.980003\n",
       "max       98.730986     97.272003    100.000000"
      ]
     },
     "execution_count": 16,
     "metadata": {},
     "output_type": "execute_result"
    }
   ],
   "source": [
    "df.describe()"
   ]
  },
  {
   "cell_type": "code",
   "execution_count": 20,
   "metadata": {},
   "outputs": [
    {
     "ename": "ModuleNotFoundError",
     "evalue": "No module named 'plotly.go'",
     "output_type": "error",
     "traceback": [
      "\u001b[0;31m---------------------------------------------------------------------------\u001b[0m",
      "\u001b[0;31mModuleNotFoundError\u001b[0m                       Traceback (most recent call last)",
      "Cell \u001b[0;32mIn[20], line 1\u001b[0m\n\u001b[0;32m----> 1\u001b[0m \u001b[38;5;28;01mimport\u001b[39;00m \u001b[38;5;21;01mplotly\u001b[39;00m\u001b[38;5;21;01m.\u001b[39;00m\u001b[38;5;21;01mgo\u001b[39;00m \u001b[38;5;28;01mas\u001b[39;00m \u001b[38;5;21;01mgo\u001b[39;00m\n\u001b[1;32m      3\u001b[0m fig \u001b[38;5;241m=\u001b[39m go\u001b[38;5;241m.\u001b[39mFigure()\n\u001b[1;32m      4\u001b[0m fig\u001b[38;5;241m.\u001b[39madd_trace(go\u001b[38;5;241m.\u001b[39mScatter(x\u001b[38;5;241m=\u001b[39mdf\u001b[38;5;241m.\u001b[39mindex, y\u001b[38;5;241m=\u001b[39mdf[variable \u001b[38;5;241m+\u001b[39m \u001b[38;5;124m'\u001b[39m\u001b[38;5;124m_mean\u001b[39m\u001b[38;5;124m'\u001b[39m], name\u001b[38;5;241m=\u001b[39m\u001b[38;5;124m'\u001b[39m\u001b[38;5;124mMean\u001b[39m\u001b[38;5;124m'\u001b[39m))\n",
      "\u001b[0;31mModuleNotFoundError\u001b[0m: No module named 'plotly.go'"
     ]
    }
   ],
   "source": [
    "import plotly.go as go\n",
    "\n",
    "fig = go.Figure()\n",
    "fig.add_trace(go.Scatter(x=df.index, y=df[variable + '_mean'], name='Mean'))\n",
    "fig.add_trace(go.Scatter(x=df.index, y=df[variable + '_min'], name='Min'))\n",
    "fig.add_trace(go.Scatter(x=df.index, y=df[variable + '_max'], name='Max'))\n",
    "\n",
    "fig.show()\n"
   ]
  },
  {
   "cell_type": "markdown",
   "metadata": {},
   "source": [
    "## Upload results"
   ]
  },
  {
   "cell_type": "markdown",
   "metadata": {},
   "source": [
    "**THIS PART IS NOT RUN BY PAPERMILL!**\n",
    "\n",
    "In case something went wrong and we decide to change notebooks manually, this part can upload the created files to GCE. Note, that changes to the notebook itself cannot be uploaded, which has to be done manually."
   ]
  },
  {
   "cell_type": "code",
   "execution_count": 17,
   "metadata": {},
   "outputs": [
    {
     "data": {
      "application/javascript": "IPython.notebook.save_checkpoint();",
      "text/plain": [
       "<IPython.core.display.Javascript object>"
      ]
     },
     "metadata": {},
     "output_type": "display_data"
    },
    {
     "ename": "FileNotFoundError",
     "evalue": "[Errno 2] No such file or directory: 'camels-de-0772adc50345.json'",
     "output_type": "error",
     "traceback": [
      "\u001b[0;31m---------------------------------------------------------------------------\u001b[0m",
      "\u001b[0;31mFileNotFoundError\u001b[0m                         Traceback (most recent call last)",
      "\u001b[0;32m/tmp/ipykernel_13057/198599629.py\u001b[0m in \u001b[0;36m<module>\u001b[0;34m\u001b[0m\n\u001b[1;32m     11\u001b[0m     \u001b[0;31m# Upload the database itself\u001b[0m\u001b[0;34m\u001b[0m\u001b[0;34m\u001b[0m\u001b[0m\n\u001b[1;32m     12\u001b[0m     \u001b[0mdatabase_blob\u001b[0m \u001b[0;34m=\u001b[0m \u001b[0;34mf\"{proc.result_prefix}/{catchment_id}/{catchment_id}_{variable}.db\"\u001b[0m\u001b[0;34m\u001b[0m\u001b[0;34m\u001b[0m\u001b[0m\n\u001b[0;32m---> 13\u001b[0;31m     \u001b[0mproc\u001b[0m\u001b[0;34m.\u001b[0m\u001b[0mupload\u001b[0m\u001b[0;34m(\u001b[0m\u001b[0mdatabase_blob\u001b[0m\u001b[0;34m,\u001b[0m \u001b[0;34mf\"{catchment_id}.db\"\u001b[0m\u001b[0;34m)\u001b[0m\u001b[0;34m\u001b[0m\u001b[0;34m\u001b[0m\u001b[0m\n\u001b[0m\u001b[1;32m     14\u001b[0m \u001b[0;34m\u001b[0m\u001b[0m\n\u001b[1;32m     15\u001b[0m     \u001b[0;31m# upload the catchment as geojson\u001b[0m\u001b[0;34m\u001b[0m\u001b[0;34m\u001b[0m\u001b[0m\n",
      "\u001b[0;32m~/Dropbox/python/clipper/src/db.py\u001b[0m in \u001b[0;36mupload\u001b[0;34m(self, blob_name, source, if_exists)\u001b[0m\n\u001b[1;32m     80\u001b[0m     \u001b[0;32mdef\u001b[0m \u001b[0mupload\u001b[0m\u001b[0;34m(\u001b[0m\u001b[0mself\u001b[0m\u001b[0;34m,\u001b[0m \u001b[0mblob_name\u001b[0m\u001b[0;34m:\u001b[0m \u001b[0mstr\u001b[0m\u001b[0;34m,\u001b[0m \u001b[0msource\u001b[0m\u001b[0;34m:\u001b[0m \u001b[0mUnion\u001b[0m\u001b[0;34m[\u001b[0m\u001b[0mIOBase\u001b[0m\u001b[0;34m,\u001b[0m \u001b[0mstr\u001b[0m\u001b[0;34m]\u001b[0m\u001b[0;34m,\u001b[0m \u001b[0mif_exists\u001b[0m\u001b[0;34m:\u001b[0m \u001b[0mUnion\u001b[0m\u001b[0;34m[\u001b[0m\u001b[0mLiteral\u001b[0m\u001b[0;34m[\u001b[0m\u001b[0;34m'raise'\u001b[0m\u001b[0;34m]\u001b[0m\u001b[0;34m,\u001b[0m \u001b[0mLiteral\u001b[0m\u001b[0;34m[\u001b[0m\u001b[0;34m'ignore'\u001b[0m\u001b[0;34m]\u001b[0m\u001b[0;34m]\u001b[0m \u001b[0;34m=\u001b[0m \u001b[0;34m'raise'\u001b[0m\u001b[0;34m)\u001b[0m \u001b[0;34m->\u001b[0m \u001b[0;32mNone\u001b[0m\u001b[0;34m:\u001b[0m\u001b[0;34m\u001b[0m\u001b[0;34m\u001b[0m\u001b[0m\n\u001b[1;32m     81\u001b[0m         \u001b[0;31m# get the blob object\u001b[0m\u001b[0;34m\u001b[0m\u001b[0;34m\u001b[0m\u001b[0m\n\u001b[0;32m---> 82\u001b[0;31m         \u001b[0mblob\u001b[0m \u001b[0;34m=\u001b[0m \u001b[0mself\u001b[0m\u001b[0;34m.\u001b[0m\u001b[0mtarget\u001b[0m\u001b[0;34m.\u001b[0m\u001b[0mblob\u001b[0m\u001b[0;34m(\u001b[0m\u001b[0mblob_name\u001b[0m\u001b[0;34m)\u001b[0m\u001b[0;34m\u001b[0m\u001b[0;34m\u001b[0m\u001b[0m\n\u001b[0m\u001b[1;32m     83\u001b[0m \u001b[0;34m\u001b[0m\u001b[0m\n\u001b[1;32m     84\u001b[0m         \u001b[0;31m# check if the blob already exists\u001b[0m\u001b[0;34m\u001b[0m\u001b[0;34m\u001b[0m\u001b[0m\n",
      "\u001b[0;32m~/Dropbox/python/clipper/src/db.py\u001b[0m in \u001b[0;36mtarget\u001b[0;34m(self)\u001b[0m\n\u001b[1;32m     54\u001b[0m     \u001b[0;34m@\u001b[0m\u001b[0mproperty\u001b[0m\u001b[0;34m\u001b[0m\u001b[0;34m\u001b[0m\u001b[0m\n\u001b[1;32m     55\u001b[0m     \u001b[0;32mdef\u001b[0m \u001b[0mtarget\u001b[0m\u001b[0;34m(\u001b[0m\u001b[0mself\u001b[0m\u001b[0;34m)\u001b[0m \u001b[0;34m->\u001b[0m \u001b[0mBucket\u001b[0m\u001b[0;34m:\u001b[0m\u001b[0;34m\u001b[0m\u001b[0;34m\u001b[0m\u001b[0m\n\u001b[0;32m---> 56\u001b[0;31m         \u001b[0;32mreturn\u001b[0m \u001b[0mself\u001b[0m\u001b[0;34m.\u001b[0m\u001b[0mclient\u001b[0m\u001b[0;34m.\u001b[0m\u001b[0mbucket\u001b[0m\u001b[0;34m(\u001b[0m\u001b[0mself\u001b[0m\u001b[0;34m.\u001b[0m\u001b[0mtarget_bucket\u001b[0m\u001b[0;34m)\u001b[0m\u001b[0;34m\u001b[0m\u001b[0;34m\u001b[0m\u001b[0m\n\u001b[0m\u001b[1;32m     57\u001b[0m \u001b[0;34m\u001b[0m\u001b[0m\n\u001b[1;32m     58\u001b[0m     \u001b[0;34m@\u001b[0m\u001b[0mcomputed_field\u001b[0m\u001b[0;34m\u001b[0m\u001b[0;34m\u001b[0m\u001b[0m\n",
      "\u001b[0;32m~/anaconda3/lib/python3.9/functools.py\u001b[0m in \u001b[0;36m__get__\u001b[0;34m(self, instance, owner)\u001b[0m\n\u001b[1;32m    991\u001b[0m                 \u001b[0mval\u001b[0m \u001b[0;34m=\u001b[0m \u001b[0mcache\u001b[0m\u001b[0;34m.\u001b[0m\u001b[0mget\u001b[0m\u001b[0;34m(\u001b[0m\u001b[0mself\u001b[0m\u001b[0;34m.\u001b[0m\u001b[0mattrname\u001b[0m\u001b[0;34m,\u001b[0m \u001b[0m_NOT_FOUND\u001b[0m\u001b[0;34m)\u001b[0m\u001b[0;34m\u001b[0m\u001b[0;34m\u001b[0m\u001b[0m\n\u001b[1;32m    992\u001b[0m                 \u001b[0;32mif\u001b[0m \u001b[0mval\u001b[0m \u001b[0;32mis\u001b[0m \u001b[0m_NOT_FOUND\u001b[0m\u001b[0;34m:\u001b[0m\u001b[0;34m\u001b[0m\u001b[0;34m\u001b[0m\u001b[0m\n\u001b[0;32m--> 993\u001b[0;31m                     \u001b[0mval\u001b[0m \u001b[0;34m=\u001b[0m \u001b[0mself\u001b[0m\u001b[0;34m.\u001b[0m\u001b[0mfunc\u001b[0m\u001b[0;34m(\u001b[0m\u001b[0minstance\u001b[0m\u001b[0;34m)\u001b[0m\u001b[0;34m\u001b[0m\u001b[0;34m\u001b[0m\u001b[0m\n\u001b[0m\u001b[1;32m    994\u001b[0m                     \u001b[0;32mtry\u001b[0m\u001b[0;34m:\u001b[0m\u001b[0;34m\u001b[0m\u001b[0;34m\u001b[0m\u001b[0m\n\u001b[1;32m    995\u001b[0m                         \u001b[0mcache\u001b[0m\u001b[0;34m[\u001b[0m\u001b[0mself\u001b[0m\u001b[0;34m.\u001b[0m\u001b[0mattrname\u001b[0m\u001b[0;34m]\u001b[0m \u001b[0;34m=\u001b[0m \u001b[0mval\u001b[0m\u001b[0;34m\u001b[0m\u001b[0;34m\u001b[0m\u001b[0m\n",
      "\u001b[0;32m~/Dropbox/python/clipper/src/db.py\u001b[0m in \u001b[0;36mclient\u001b[0;34m(self)\u001b[0m\n\u001b[1;32m     39\u001b[0m         \u001b[0;31m# build credentials from the service account\u001b[0m\u001b[0;34m\u001b[0m\u001b[0;34m\u001b[0m\u001b[0m\n\u001b[1;32m     40\u001b[0m         \u001b[0;32mif\u001b[0m \u001b[0mself\u001b[0m\u001b[0;34m.\u001b[0m\u001b[0mgkey\u001b[0m \u001b[0;34m!=\u001b[0m \u001b[0;34m''\u001b[0m\u001b[0;34m:\u001b[0m\u001b[0;34m\u001b[0m\u001b[0;34m\u001b[0m\u001b[0m\n\u001b[0;32m---> 41\u001b[0;31m             \u001b[0mcredentials\u001b[0m \u001b[0;34m=\u001b[0m \u001b[0mservice_account\u001b[0m\u001b[0;34m.\u001b[0m\u001b[0mCredentials\u001b[0m\u001b[0;34m.\u001b[0m\u001b[0mfrom_service_account_file\u001b[0m\u001b[0;34m(\u001b[0m\u001b[0mself\u001b[0m\u001b[0;34m.\u001b[0m\u001b[0mgkey\u001b[0m\u001b[0;34m)\u001b[0m\u001b[0;34m\u001b[0m\u001b[0;34m\u001b[0m\u001b[0m\n\u001b[0m\u001b[1;32m     42\u001b[0m         \u001b[0;32melse\u001b[0m\u001b[0;34m:\u001b[0m\u001b[0;34m\u001b[0m\u001b[0;34m\u001b[0m\u001b[0m\n\u001b[1;32m     43\u001b[0m             \u001b[0mcredentials\u001b[0m \u001b[0;34m=\u001b[0m \u001b[0;32mNone\u001b[0m\u001b[0;34m\u001b[0m\u001b[0;34m\u001b[0m\u001b[0m\n",
      "\u001b[0;32m~/anaconda3/lib/python3.9/site-packages/google/oauth2/service_account.py\u001b[0m in \u001b[0;36mfrom_service_account_file\u001b[0;34m(cls, filename, **kwargs)\u001b[0m\n\u001b[1;32m    255\u001b[0m                 \u001b[0mcredentials\u001b[0m\u001b[0;34m.\u001b[0m\u001b[0;34m\u001b[0m\u001b[0;34m\u001b[0m\u001b[0m\n\u001b[1;32m    256\u001b[0m         \"\"\"\n\u001b[0;32m--> 257\u001b[0;31m         info, signer = _service_account_info.from_filename(\n\u001b[0m\u001b[1;32m    258\u001b[0m             \u001b[0mfilename\u001b[0m\u001b[0;34m,\u001b[0m \u001b[0mrequire\u001b[0m\u001b[0;34m=\u001b[0m\u001b[0;34m[\u001b[0m\u001b[0;34m\"client_email\"\u001b[0m\u001b[0;34m,\u001b[0m \u001b[0;34m\"token_uri\"\u001b[0m\u001b[0;34m]\u001b[0m\u001b[0;34m\u001b[0m\u001b[0;34m\u001b[0m\u001b[0m\n\u001b[1;32m    259\u001b[0m         )\n",
      "\u001b[0;32m~/anaconda3/lib/python3.9/site-packages/google/auth/_service_account_info.py\u001b[0m in \u001b[0;36mfrom_filename\u001b[0;34m(filename, require, use_rsa_signer)\u001b[0m\n\u001b[1;32m     76\u001b[0m             \u001b[0minfo\u001b[0m \u001b[0;32mand\u001b[0m \u001b[0ma\u001b[0m \u001b[0msigner\u001b[0m \u001b[0minstance\u001b[0m\u001b[0;34m.\u001b[0m\u001b[0;34m\u001b[0m\u001b[0;34m\u001b[0m\u001b[0m\n\u001b[1;32m     77\u001b[0m     \"\"\"\n\u001b[0;32m---> 78\u001b[0;31m     \u001b[0;32mwith\u001b[0m \u001b[0mio\u001b[0m\u001b[0;34m.\u001b[0m\u001b[0mopen\u001b[0m\u001b[0;34m(\u001b[0m\u001b[0mfilename\u001b[0m\u001b[0;34m,\u001b[0m \u001b[0;34m\"r\"\u001b[0m\u001b[0;34m,\u001b[0m \u001b[0mencoding\u001b[0m\u001b[0;34m=\u001b[0m\u001b[0;34m\"utf-8\"\u001b[0m\u001b[0;34m)\u001b[0m \u001b[0;32mas\u001b[0m \u001b[0mjson_file\u001b[0m\u001b[0;34m:\u001b[0m\u001b[0;34m\u001b[0m\u001b[0;34m\u001b[0m\u001b[0m\n\u001b[0m\u001b[1;32m     79\u001b[0m         \u001b[0mdata\u001b[0m \u001b[0;34m=\u001b[0m \u001b[0mjson\u001b[0m\u001b[0;34m.\u001b[0m\u001b[0mload\u001b[0m\u001b[0;34m(\u001b[0m\u001b[0mjson_file\u001b[0m\u001b[0;34m)\u001b[0m\u001b[0;34m\u001b[0m\u001b[0;34m\u001b[0m\u001b[0m\n\u001b[1;32m     80\u001b[0m         \u001b[0;32mreturn\u001b[0m \u001b[0mdata\u001b[0m\u001b[0;34m,\u001b[0m \u001b[0mfrom_dict\u001b[0m\u001b[0;34m(\u001b[0m\u001b[0mdata\u001b[0m\u001b[0;34m,\u001b[0m \u001b[0mrequire\u001b[0m\u001b[0;34m=\u001b[0m\u001b[0mrequire\u001b[0m\u001b[0;34m,\u001b[0m \u001b[0muse_rsa_signer\u001b[0m\u001b[0;34m=\u001b[0m\u001b[0muse_rsa_signer\u001b[0m\u001b[0;34m)\u001b[0m\u001b[0;34m\u001b[0m\u001b[0;34m\u001b[0m\u001b[0m\n",
      "\u001b[0;31mFileNotFoundError\u001b[0m: [Errno 2] No such file or directory: 'camels-de-0772adc50345.json'"
     ]
    }
   ],
   "source": [
    "# this is the stuff to be uploaded\n",
    "if not WITH_PAPERMILL:\n",
    "    from db import DuckProcessor\n",
    "\n",
    "    proc = DuckProcessor(target_bucket=target_bucket, catchments_path=catchments_path, notebook_bucket=notebook_bucket)\n",
    "\n",
    "    # save the current state of this notebook\n",
    "    from IPython.display import display, Javascript\n",
    "    display(Javascript('IPython.notebook.save_checkpoint();'))\n",
    "\n",
    "    # Upload the database itself\n",
    "    database_blob = f\"{proc.result_prefix}/{catchment_id}/{catchment_id}_{variable}.db\"\n",
    "    proc.upload(database_blob, f\"{catchment_id}.db\")\n",
    "\n",
    "    # upload the catchment as geojson\n",
    "    catchment_blob = f\"{proc.result_prefix}/{catchment_id}/{catchment_id}.geojson\"\n",
    "    proc.target.blob(catchment_blob).upload_from_string(catchment.to_json())\n",
    "\n",
    "    # upload the notebook\n",
    "    notebook_blob = f\"{proc.result_prefix}/{catchment_id}_clip_catchment_from_hyras.ipynb\"\n",
    "    proc.upload_notebook(notebook_blob, './clip_catchment_from_hyras.ipynb')"
   ]
  }
 ],
 "metadata": {
  "kernelspec": {
   "display_name": "base",
   "language": "python",
   "name": "python3"
  },
  "language_info": {
   "codemirror_mode": {
    "name": "ipython",
    "version": 3
   },
   "file_extension": ".py",
   "mimetype": "text/x-python",
   "name": "python",
   "nbconvert_exporter": "python",
   "pygments_lexer": "ipython3",
   "version": "3.11.7"
  }
 },
 "nbformat": 4,
 "nbformat_minor": 2
}
