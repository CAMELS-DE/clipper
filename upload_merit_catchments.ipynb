{
 "cells": [
  {
   "cell_type": "markdown",
   "metadata": {},
   "source": [
    "\n",
    "# Set up MERIT Hydro catchments\n",
    "\n",
    "This notebook is used to set up the MERIT Hydro catchments as `.parquet` and `.geojson` files on the google cloud.  \n",
    "We transform the CRS to EPSG:3034 to be easily compatible with HYRAS, add an OID and save the catchment for each station as .parquet and .geojson on gcloud. "
   ]
  },
  {
   "cell_type": "code",
   "execution_count": 1,
   "metadata": {},
   "outputs": [],
   "source": [
    "from app.db import HyrasDB\n",
    "\n",
    "import tempfile\n",
    "from pathlib import Path\n",
    "from tqdm import tqdm\n",
    "from geocube.api.core import make_geocube"
   ]
  },
  {
   "cell_type": "markdown",
   "metadata": {},
   "source": [
    "Get catchments from gcloud (`camels_output_data/features/merit_hydro_catchments.gpkg`)."
   ]
  },
  {
   "cell_type": "code",
   "execution_count": 2,
   "metadata": {},
   "outputs": [],
   "source": [
    "db = HyrasDB()\n",
    "\n",
    "catchments = db.catchments\n"
   ]
  },
  {
   "cell_type": "markdown",
   "metadata": {},
   "source": [
    "Transform CRS to `EPSG:3034` to be easily compatible with HYRAS data and add an OID."
   ]
  },
  {
   "cell_type": "code",
   "execution_count": 3,
   "metadata": {},
   "outputs": [],
   "source": [
    "catchments.to_crs('epsg:3034', inplace=True)\n",
    "catchments['oid'] = range(len(catchments))\n"
   ]
  },
  {
   "cell_type": "markdown",
   "metadata": {},
   "source": [
    "Save catchment geometry for each station as `.parquet` and `.geojson` on gcloud."
   ]
  },
  {
   "cell_type": "code",
   "execution_count": 10,
   "metadata": {},
   "outputs": [
    {
     "name": "stderr",
     "output_type": "stream",
     "text": [
      "1it [00:00,  4.51it/s]"
     ]
    },
    {
     "name": "stdout",
     "output_type": "stream",
     "text": [
      "0\n"
     ]
    },
    {
     "name": "stderr",
     "output_type": "stream",
     "text": [
      "2it [00:00,  4.46it/s]"
     ]
    },
    {
     "name": "stdout",
     "output_type": "stream",
     "text": [
      "1\n"
     ]
    },
    {
     "name": "stderr",
     "output_type": "stream",
     "text": [
      "2it [00:00,  2.82it/s]"
     ]
    },
    {
     "name": "stdout",
     "output_type": "stream",
     "text": [
      "2\n"
     ]
    },
    {
     "name": "stderr",
     "output_type": "stream",
     "text": [
      "\n"
     ]
    }
   ],
   "source": [
    "# set path to store catchments on gcloud\n",
    "base_path = Path('test/db/')\n",
    "\n",
    "# loop over all catchments and save as parquet and geojson\n",
    "for i, row in tqdm(catchments.iterrows()):\n",
    "    # make geocube for the catchment\n",
    "    ds = make_geocube(catchments.where(catchments.oid == row.oid).dropna(), measurements=['oid'], resolution=(-500, 500))\n",
    "\n",
    "    # save to parquet\n",
    "    with tempfile.NamedTemporaryFile(suffix='.parquet') as f:\n",
    "        # transform to parquet\n",
    "        ds.to_dataframe().dropna().reset_index().astype(int)[['x', 'y', 'oid']].to_parquet(f)\n",
    "        f.seek(0)\n",
    "\n",
    "        # generate path (camels_id/camels_id.parquet)\n",
    "        path = base_path / f\"{row.id}/{row.id}.parquet\"\n",
    "        \n",
    "        # upload to gcloud\n",
    "        db.proc.upload(str(path), f.name)\n",
    "    \n",
    "    # save to geojson\n",
    "    with tempfile.NamedTemporaryFile(suffix='.geojson') as f:\n",
    "        # transform to geojson\n",
    "        catchments.where(catchments.id == row.id).dropna().to_file(f)\n",
    "\n",
    "        # generate path (camels_id/camels_id.geojson)\n",
    "        path = base_path / f\"{row.id}/{row.id}.geojson\"\n",
    "\n",
    "        # upload to gcloud\n",
    "        db.proc.upload(str(path), f.name)\n",
    "\n",
    "    # TODO: remove break and run\n",
    "    break"
   ]
  }
 ],
 "metadata": {
  "kernelspec": {
   "display_name": "base",
   "language": "python",
   "name": "python3"
  },
  "language_info": {
   "codemirror_mode": {
    "name": "ipython",
    "version": 3
   },
   "file_extension": ".py",
   "mimetype": "text/x-python",
   "name": "python",
   "nbconvert_exporter": "python",
   "pygments_lexer": "ipython3",
   "version": "3.11.7"
  }
 },
 "nbformat": 4,
 "nbformat_minor": 2
}
