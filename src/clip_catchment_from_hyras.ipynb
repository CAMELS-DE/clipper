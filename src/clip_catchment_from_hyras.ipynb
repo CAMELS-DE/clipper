{
 "cells": [
  {
   "cell_type": "markdown",
   "metadata": {},
   "source": [
    "# Clip the `hyras` dataset for one catchment and year"
   ]
  },
  {
   "cell_type": "markdown",
   "metadata": {},
   "source": [
    "This is a long text explainging what this notebook does in detail"
   ]
  },
  {
   "cell_type": "markdown",
   "metadata": {},
   "source": [
    "## Parameters"
   ]
  },
  {
   "cell_type": "markdown",
   "metadata": {},
   "source": [
    "\n",
    "This notebook is supposed to be run with `papermill`. These are the parameters, that can be changed from outside the notebook, using papermill.\n",
    "Values in here reflect default values and are not meant to be changed directly."
   ]
  },
  {
   "cell_type": "code",
   "execution_count": 1,
   "metadata": {
    "tags": [
     "parameters"
    ]
   },
   "outputs": [],
   "source": [
    "# parameters for this catchment\n",
    "catchment_id = 'DE110010'\n",
    "variable = 'hurs'\n",
    "local_cache = None\n",
    "\n",
    "# some settings to control the processing\n",
    "WITH_PAPERMILL = False\n",
    "MANUAL_RUN = False\n",
    "\n",
    "# general settings\n",
    "target_bucket = 'camels_output_data'\n",
    "notebook_bucket = 'camels_notebooks'\n",
    "catchments_path = './merit_hydro_catchments.gpkg'\n",
    "base_url = \"https://opendata.dwd.de/climate_environment/CDC/grids_germany/daily/hyras_de\""
   ]
  },
  {
   "cell_type": "markdown",
   "metadata": {},
   "source": [
    "## Preamble"
   ]
  },
  {
   "cell_type": "markdown",
   "metadata": {},
   "source": [
    "This part import necessary packages and derives some needed parameters from the supplied parameters."
   ]
  },
  {
   "cell_type": "code",
   "execution_count": 2,
   "metadata": {},
   "outputs": [
    {
     "name": "stdout",
     "output_type": "stream",
     "text": [
      "Warning: ecCodes 2.18.0 or higher is recommended. You are running version 2.12.0\n"
     ]
    },
    {
     "data": {
      "text/plain": [
       "True"
      ]
     },
     "execution_count": 2,
     "metadata": {},
     "output_type": "execute_result"
    }
   ],
   "source": [
    "from typing import Optional, Union\n",
    "import tempfile\n",
    "from datetime import datetime as dt\n",
    "from tqdm import tqdm\n",
    "from pathlib import Path\n",
    "from io import BytesIO, IOBase\n",
    "\n",
    "from dotenv import load_dotenv\n",
    "import httpx\n",
    "import duckdb\n",
    "import xarray as xr\n",
    "import geopandas as gpd\n",
    "from geocube.api.core import make_geocube\n",
    "\n",
    "load_dotenv()"
   ]
  },
  {
   "cell_type": "code",
   "execution_count": 3,
   "metadata": {},
   "outputs": [],
   "source": [
    "# handle the local cache path\n",
    "if local_cache is None:\n",
    "    local_cache = Path.cwd() / catchment_id\n",
    "else:\n",
    "    local_cache = Path(local_cache)\n",
    "\n",
    "if not local_cache.exists():\n",
    "    local_cache.mkdir(parents=True, exist_ok=True)"
   ]
  },
  {
   "cell_type": "markdown",
   "metadata": {},
   "source": [
    "This notebook is intended to be run by `papermill` to ensure, that it ran automatically with transparent setting of parameters.\n",
    "As we expect some runs to fail on specific catchments, it is also possible to inspect these notebooks and run them by hand. To do so, you\n",
    "need to set the `MANUAL_RUN` flag to `True`, otherwise, the next cell will raise an exception and create an error file.\n",
    "\n",
    "If you need to postprocess a specific version of this notebook, you have to indicate the changes you did in the next cell, by supplying a description, which will be stored along with the processed files."
   ]
  },
  {
   "cell_type": "code",
   "execution_count": 4,
   "metadata": {},
   "outputs": [
    {
     "ename": "RuntimeError",
     "evalue": "The execution of the clip_catchment_from_hyras.ipynb has been cancelled on 2024-01-11 14:37:07.449934 UTC.\nThe reason is, that the notebook was not executed with papermill, and/or the parameter WITH_PAPERMILL was not set to `True` by papermill.\nThis is necessary to ensure, that all HYRAS files where processed in exactly the same way.\nBy this we state clear data and processing provenance for the CAMELS-DE dataset.\n\nIn case you tried to debug this notebook, or fix specificities about some catchments, you can set the parameter MANUAL_RUN to `True` \nand execute the notebook again. In that case it is abosulely necessary to update the notebook to reflect the changes you made.\nIn addition, you should explain all changes in the notebook itself, and upload it to the other notebooks.\n\nDEBUG\n-----\ncatchment_id: DE110010\nvariable: hurs\ncatchments_path: ./merit_hydro_catchments.gpkg\nlocal_cache: /home/mirko/Dropbox/python/clipper/src/DE110010\n\nHYRAS\n-----\nbase_url: https://opendata.dwd.de/climate_environment/CDC/grids_germany/daily/hyras_de\ntarget_bucket: camels_output_data\nnotebook_bucket: camels_notebooks\n",
     "output_type": "error",
     "traceback": [
      "\u001b[0;31m---------------------------------------------------------------------------\u001b[0m",
      "\u001b[0;31mRuntimeError\u001b[0m                              Traceback (most recent call last)",
      "\u001b[0;32m/tmp/ipykernel_13057/2362868503.py\u001b[0m in \u001b[0;36m<module>\u001b[0;34m\u001b[0m\n\u001b[1;32m     25\u001b[0m \u001b[0;32mif\u001b[0m \u001b[0;32mnot\u001b[0m \u001b[0mWITH_PAPERMILL\u001b[0m \u001b[0;32mand\u001b[0m \u001b[0;32mnot\u001b[0m \u001b[0mMANUAL_RUN\u001b[0m\u001b[0;34m:\u001b[0m\u001b[0;34m\u001b[0m\u001b[0;34m\u001b[0m\u001b[0m\n\u001b[1;32m     26\u001b[0m     \u001b[0;31m# raise the error, to let papermill handle it\u001b[0m\u001b[0;34m\u001b[0m\u001b[0;34m\u001b[0m\u001b[0m\n\u001b[0;32m---> 27\u001b[0;31m     \u001b[0;32mraise\u001b[0m \u001b[0mRuntimeError\u001b[0m\u001b[0;34m(\u001b[0m\u001b[0merror_msg\u001b[0m\u001b[0;34m)\u001b[0m\u001b[0;34m\u001b[0m\u001b[0;34m\u001b[0m\u001b[0m\n\u001b[0m",
      "\u001b[0;31mRuntimeError\u001b[0m: The execution of the clip_catchment_from_hyras.ipynb has been cancelled on 2024-01-11 14:37:07.449934 UTC.\nThe reason is, that the notebook was not executed with papermill, and/or the parameter WITH_PAPERMILL was not set to `True` by papermill.\nThis is necessary to ensure, that all HYRAS files where processed in exactly the same way.\nBy this we state clear data and processing provenance for the CAMELS-DE dataset.\n\nIn case you tried to debug this notebook, or fix specificities about some catchments, you can set the parameter MANUAL_RUN to `True` \nand execute the notebook again. In that case it is abosulely necessary to update the notebook to reflect the changes you made.\nIn addition, you should explain all changes in the notebook itself, and upload it to the other notebooks.\n\nDEBUG\n-----\ncatchment_id: DE110010\nvariable: hurs\ncatchments_path: ./merit_hydro_catchments.gpkg\nlocal_cache: /home/mirko/Dropbox/python/clipper/src/DE110010\n\nHYRAS\n-----\nbase_url: https://opendata.dwd.de/climate_environment/CDC/grids_germany/daily/hyras_de\ntarget_bucket: camels_output_data\nnotebook_bucket: camels_notebooks\n"
     ]
    }
   ],
   "source": [
    "# this is the error handler, to abort the execution of the notebook\n",
    "\n",
    "error_msg = f\"\"\"The execution of the clip_catchment_from_hyras.ipynb has been cancelled on {dt.utcnow()} UTC.\n",
    "The reason is, that the notebook was not executed with papermill, and/or the parameter WITH_PAPERMILL was not set to `True` by papermill.\n",
    "This is necessary to ensure, that all HYRAS files where processed in exactly the same way.\n",
    "By this we state clear data and processing provenance for the CAMELS-DE dataset.\n",
    "\n",
    "In case you tried to debug this notebook, or fix specificities about some catchments, you can set the parameter MANUAL_RUN to `True` \n",
    "and execute the notebook again. In that case it is abosulely necessary to update the notebook to reflect the changes you made.\n",
    "In addition, you should explain all changes in the notebook itself, and upload it to the other notebooks.\n",
    "\n",
    "DEBUG\n",
    "-----\n",
    "catchment_id: {catchment_id}\n",
    "variable: {variable}\n",
    "catchments_path: {catchments_path}\n",
    "local_cache: {local_cache}\n",
    "\n",
    "HYRAS\n",
    "-----\n",
    "base_url: {base_url}\n",
    "target_bucket: {target_bucket}\n",
    "notebook_bucket: {notebook_bucket}\n",
    "\"\"\"\n",
    "if not WITH_PAPERMILL and not MANUAL_RUN:\n",
    "    # raise the error, to let papermill handle it\n",
    "    raise RuntimeError(error_msg)"
   ]
  },
  {
   "cell_type": "markdown",
   "metadata": {},
   "source": [
    "Define the necessary functions to download the hyras dataset and to download the catchments, if not supplied locally.\n",
    "Outside of this notebook, you can use the `db.DuckProcessor`, which can do all of that and be configured directly, or by environment variables.\n",
    "These cells re-define the needed functionality to make the notebook self-contained. You do not need `db.DuckProcessor` to run it."
   ]
  },
  {
   "cell_type": "code",
   "execution_count": 5,
   "metadata": {},
   "outputs": [],
   "source": [
    "VAR_MAP = {\n",
    "    'pr': 'preciptation',\n",
    "    'hurs': 'humidity',\n",
    "    'rsds': 'radiation_global',\n",
    "    'tas': 'air_temperature_mean',\n",
    "    'tasmax': 'air_temperature_max',\n",
    "    'tasmin': 'air_temperature_min'\n",
    "}\n",
    "\n",
    "def download_hyras(variable: str, year: int, path: Optional[IOBase] = None) -> Union[IOBase, str]:\n",
    "    # build the filename \n",
    "    filename = f\"{variable}_hyras_{1 if variable in ('pr') else 5}_{year}_v{3 if variable == 'rsds' else 5}-0_de.nc\"\n",
    "    # build the specific url\n",
    "    url = f\"{base_url}/{VAR_MAP[variable]}/{filename}\"\n",
    "\n",
    "    # download\n",
    "    response = httpx.get(url)\n",
    "    if response.status_code != 200:\n",
    "        raise FileNotFoundError(f'File {filename} not found. (Tested: {url})')\n",
    "\n",
    "    # handle return value\n",
    "    if path is None:\n",
    "        buffer = BytesIO()\n",
    "        buffer.write(response.content)\n",
    "        buffer.seek(0)\n",
    "        return buffer\n",
    "    else:\n",
    "        path.write(response.content)"
   ]
  },
  {
   "cell_type": "code",
   "execution_count": 6,
   "metadata": {},
   "outputs": [
    {
     "data": {
      "text/html": [
       "<div>\n",
       "<style scoped>\n",
       "    .dataframe tbody tr th:only-of-type {\n",
       "        vertical-align: middle;\n",
       "    }\n",
       "\n",
       "    .dataframe tbody tr th {\n",
       "        vertical-align: top;\n",
       "    }\n",
       "\n",
       "    .dataframe thead th {\n",
       "        text-align: right;\n",
       "    }\n",
       "</style>\n",
       "<table border=\"1\" class=\"dataframe\">\n",
       "  <thead>\n",
       "    <tr style=\"text-align: right;\">\n",
       "      <th></th>\n",
       "      <th>id</th>\n",
       "      <th>name</th>\n",
       "      <th>result</th>\n",
       "      <th>area_calc</th>\n",
       "      <th>area_reported</th>\n",
       "      <th>geometry</th>\n",
       "      <th>oid</th>\n",
       "    </tr>\n",
       "  </thead>\n",
       "  <tbody>\n",
       "    <tr>\n",
       "      <th>2584</th>\n",
       "      <td>DE110010</td>\n",
       "      <td>Möhringen</td>\n",
       "      <td>High Res</td>\n",
       "      <td>831.0</td>\n",
       "      <td>826.963</td>\n",
       "      <td>POLYGON ((3891456.324 2359480.287, 3891450.864...</td>\n",
       "      <td>2584.0</td>\n",
       "    </tr>\n",
       "  </tbody>\n",
       "</table>\n",
       "</div>"
      ],
      "text/plain": [
       "            id       name    result  area_calc  area_reported  \\\n",
       "2584  DE110010  Möhringen  High Res      831.0        826.963   \n",
       "\n",
       "                                               geometry     oid  \n",
       "2584  POLYGON ((3891456.324 2359480.287, 3891450.864...  2584.0  "
      ]
     },
     "execution_count": 6,
     "metadata": {},
     "output_type": "execute_result"
    }
   ],
   "source": [
    "# read the catchments\n",
    "catchments = gpd.read_file(catchments_path)\n",
    "\n",
    "# add an numerical object id to the catchments\n",
    "catchments['oid'] = range(len(catchments))\n",
    "\n",
    "# filter for the requested catchment and reproject to hyras CRS \n",
    "catchment = catchments.where(catchments.id == catchment_id).dropna().to_crs('epsg:3034')\n",
    "\n",
    "catchment"
   ]
  },
  {
   "cell_type": "code",
   "execution_count": 12,
   "metadata": {},
   "outputs": [
    {
     "name": "stdout",
     "output_type": "stream",
     "text": [
      "Using resolution (-2500, 2500)\n"
     ]
    },
    {
     "data": {
      "image/png": "[encoded data removed]",
      "text/plain": [
       "<Figure size 640x480 with 2 Axes>"
      ]
     },
     "metadata": {},
     "output_type": "display_data"
    }
   ],
   "source": [
    "# build a geocube for that catchment with the correct grid resolution\n",
    "resolution = (-500, 500) if variable == 'pr' else (-2500, 2500)\n",
    "print(f'Using resolution {resolution}')\n",
    "\n",
    "cube = make_geocube(\n",
    "    vector_data=catchment,\n",
    "    measurements=['oid'],\n",
    "    resolution=resolution\n",
    ")\n",
    "\n",
    "# plot a preview\n",
    "cube.oid.plot()\n",
    "\n",
    "# save the parquet file\n",
    "cube.to_dataframe().reset_index()[['x', 'y', 'oid']].dropna().to_parquet(f'{catchment_id}.parquet')"
   ]
  },
  {
   "cell_type": "code",
   "execution_count": 13,
   "metadata": {},
   "outputs": [
    {
     "name": "stdout",
     "output_type": "stream",
     "text": [
      "BBOX (3866250, 3913750, 2351250, 2388750)\n"
     ]
    }
   ],
   "source": [
    "# generate the Bounding box\n",
    "xmin = int(cube.x.min().values)\n",
    "xmax = int(cube.x.max().values)\n",
    "ymin = int(cube.y.min().values)\n",
    "ymax = int(cube.y.max().values)\n",
    "\n",
    "print(f\"BBOX ({xmin}, {xmax}, {ymin}, {ymax})\")"
   ]
  },
  {
   "cell_type": "markdown",
   "metadata": {},
   "source": [
    "## duckdb clip"
   ]
  },
  {
   "cell_type": "code",
   "execution_count": 14,
   "metadata": {},
   "outputs": [
    {
     "name": "stdout",
     "output_type": "stream",
     "text": [
      "\n",
      "insert into hurs\n",
      "with tmp as (\n",
      "    select \n",
      "        time, \n",
      "        (x - 2500, y - 2500, x + 2500, y + 2500)::box_2d as cell, \n",
      "        hurs\n",
      "    from 'hurs.parquet'\n",
      ")\n",
      "select * from tmp where exists (select 1 from catchment where st_within(point, cell));\n",
      "\n"
     ]
    }
   ],
   "source": [
    "# prepare the query\n",
    "SQL = f\"\"\"\n",
    "insert into {variable}\n",
    "with tmp as (\n",
    "    select \n",
    "        time, \n",
    "        (x - {resolution[1]}, y - {resolution[1]}, x + {resolution[1]}, y + {resolution[1]})::box_2d as cell, \n",
    "        {variable}\n",
    "    from '{variable}.parquet'\n",
    ")\n",
    "select * from tmp where exists (select 1 from catchment where st_within(point, cell));\n",
    "\"\"\"\n",
    "\n",
    "print(SQL)"
   ]
  },
  {
   "cell_type": "code",
   "execution_count": 15,
   "metadata": {},
   "outputs": [
    {
     "name": "stderr",
     "output_type": "stream",
     "text": [
      "  0%|          | 0/74 [00:00<?, ?it/s]"
     ]
    },
    {
     "name": "stdout",
     "output_type": "stream",
     "text": [
      "File hurs_hyras_5_1950_v5-0_de.nc not found. (Tested: https://opendata.dwd.de/climate_environment/CDC/grids_germany/daily/hyras_de/humidity/hurs_hyras_5_1950_v5-0_de.nc)\n"
     ]
    },
    {
     "name": "stderr",
     "output_type": "stream",
     "text": [
      "100%|██████████| 74/74 [04:28<00:00,  3.63s/it]"
     ]
    },
    {
     "name": "stdout",
     "output_type": "stream",
     "text": [
      "File hurs_hyras_5_2021_v5-0_de.nc not found. (Tested: https://opendata.dwd.de/climate_environment/CDC/grids_germany/daily/hyras_de/humidity/hurs_hyras_5_2021_v5-0_de.nc)\n",
      "File hurs_hyras_5_2022_v5-0_de.nc not found. (Tested: https://opendata.dwd.de/climate_environment/CDC/grids_germany/daily/hyras_de/humidity/hurs_hyras_5_2022_v5-0_de.nc)\n",
      "File hurs_hyras_5_2023_v5-0_de.nc not found. (Tested: https://opendata.dwd.de/climate_environment/CDC/grids_germany/daily/hyras_de/humidity/hurs_hyras_5_2023_v5-0_de.nc)\n",
      "DONE.\n",
      "Had 4 warnings:\n",
      " - File hurs_hyras_5_1950_v5-0_de.nc not found. (Tested: https://opendata.dwd.de/climate_environment/CDC/grids_germany/daily/hyras_de/humidity/hurs_hyras_5_1950_v5-0_de.nc)\n",
      " - File hurs_hyras_5_2021_v5-0_de.nc not found. (Tested: https://opendata.dwd.de/climate_environment/CDC/grids_germany/daily/hyras_de/humidity/hurs_hyras_5_2021_v5-0_de.nc)\n",
      " - File hurs_hyras_5_2022_v5-0_de.nc not found. (Tested: https://opendata.dwd.de/climate_environment/CDC/grids_germany/daily/hyras_de/humidity/hurs_hyras_5_2022_v5-0_de.nc)\n",
      " - File hurs_hyras_5_2023_v5-0_de.nc not found. (Tested: https://opendata.dwd.de/climate_environment/CDC/grids_germany/daily/hyras_de/humidity/hurs_hyras_5_2023_v5-0_de.nc)\n"
     ]
    },
    {
     "name": "stderr",
     "output_type": "stream",
     "text": [
      "\n"
     ]
    }
   ],
   "source": [
    "#\n",
    "# loop through each year\n",
    "warns = []\n",
    "for year in tqdm(range(1950, 2024)):\n",
    "    # download the file needed\n",
    "    with tempfile.NamedTemporaryFile(suffix='.nc') as nc:\n",
    "        try:\n",
    "            download_hyras(variable, year, nc)\n",
    "            nc.seek(0)\n",
    "        except Exception as e:\n",
    "            warns.append(str(e))\n",
    "            print(str(e))\n",
    "            continue\n",
    "    \n",
    "        # open the file\n",
    "        da = xr.open_dataset(nc.name)[variable]\n",
    "        ds = xr.Dataset({variable: da})\n",
    "\n",
    "        # transform to long-format parquet\n",
    "        df = ds.to_dataframe().reset_index()[['time', 'x', 'y', variable]].dropna()\n",
    "        df.where((df.x >= xmin) & (df.x <= xmax) & (df.y >= ymin) & (df.y <= ymax)).dropna().to_parquet(f\"{variable}.parquet\")\n",
    "\n",
    "    # next create the duckdb database\n",
    "    with duckdb.connect(str(local_cache / f'{catchment_id}.db')) as con:\n",
    "        # install the spatial extension\n",
    "        con.install_extension('spatial')\n",
    "        con.load_extension('spatial')\n",
    "        con.execute('SET threads=8;')\n",
    "\n",
    "        # load the catchment\n",
    "        con.execute(f\"CREATE TABLE IF NOT EXISTS catchment AS SELECT oid, st_point(x, y) AS point FROM '{catchment_id}.parquet';\")\n",
    "\n",
    "        # do the magic\n",
    "        con.execute(f\"CREATE TABLE IF NOT EXISTS {variable} (time timestamp, cell box_2d, {variable} double);\")\n",
    "        con.execute(SQL)\n",
    "    \n",
    "    # for now we break\n",
    "    # break\n",
    "\n",
    "print('DONE.')\n",
    "if len(warns) > 0:\n",
    "    print(f'Had {len(warns)} warnings:')\n",
    "    for w in warns:\n",
    "        print(f' - {w}')"
   ]
  },
  {
   "cell_type": "code",
   "execution_count": 16,
   "metadata": {},
   "outputs": [
    {
     "name": "stdout",
     "output_type": "stream",
     "text": [
      "            hurs_mean   hurs_min   hurs_max\n",
      "date                                       \n",
      "1951-01-01  90.657951  88.019997  93.227997\n",
      "1951-01-02  90.317463  86.671997  92.959999\n",
      "1951-01-03  89.736780  87.028000  92.839996\n",
      "1951-01-04  81.727512  76.828003  86.087997\n",
      "1951-01-05  80.780487  73.143997  85.468002\n",
      "...               ...        ...        ...\n",
      "2020-12-27  81.156780  76.199997  84.952003\n",
      "2020-12-28  92.280390  90.580002  93.699997\n",
      "2020-12-29  87.008390  83.431999  90.047997\n",
      "2020-12-30  89.618146  87.167999  91.772003\n",
      "2020-12-31  89.937171  86.776001  92.444000\n",
      "\n",
      "[25568 rows x 3 columns]\n",
      "          hurs_mean      hurs_min      hurs_max\n",
      "count  25568.000000  25568.000000  25568.000000\n",
      "mean      80.404299     75.785501     84.699217\n",
      "std       10.432053     11.768928     10.215708\n",
      "min       34.460878     19.068001     40.680000\n",
      "25%       73.622805     68.238998     78.320000\n",
      "50%       82.191952     77.556000     86.912003\n",
      "75%       88.652025     84.903999     93.016998\n",
      "max       99.544878     98.627998    100.000000\n"
     ]
    },
    {
     "data": {
      "text/plain": [
       "<AxesSubplot:xlabel='date'>"
      ]
     },
     "execution_count": 16,
     "metadata": {},
     "output_type": "execute_result"
    },
    {
     "data": {
      "image/png": "[encoded data removed]",
      "text/plain": [
       "<Figure size 640x480 with 1 Axes>"
      ]
     },
     "metadata": {},
     "output_type": "display_data"
    }
   ],
   "source": [
    "SQL = f\"\"\"\n",
    "select \n",
    "    date_trunc('day', time) as date, \n",
    "    avg({variable}) as {variable}_mean,\n",
    "    min({variable}) as {variable}_min,\n",
    "    max({variable}) as {variable}_max,\n",
    "from {variable} \n",
    "group by date order by date asc;\n",
    "\"\"\"\n",
    "# Load the data to verify it worked\n",
    "with duckdb.connect(str(local_cache / f\"{catchment_id}.db\")) as con:\n",
    "    df = con.sql(SQL).df().set_index('date')\n",
    "\n",
    "print(df)\n",
    "print(df.describe())\n",
    "df.plot()"
   ]
  },
  {
   "cell_type": "markdown",
   "metadata": {},
   "source": [
    "## Upload results"
   ]
  },
  {
   "cell_type": "markdown",
   "metadata": {},
   "source": [
    "**THIS PART IS NOT RUN BY PAPERMILL!**\n",
    "\n",
    "In case something went wrong and we decide to change notebooks manually, this part can upload the created files to GCE. Note, that changes to the notebook itself cannot be uploaded, which has to be done manually."
   ]
  },
  {
   "cell_type": "code",
   "execution_count": 17,
   "metadata": {},
   "outputs": [
    {
     "data": {
      "application/javascript": "IPython.notebook.save_checkpoint();",
      "text/plain": [
       "<IPython.core.display.Javascript object>"
      ]
     },
     "metadata": {},
     "output_type": "display_data"
    },
    {
     "ename": "FileNotFoundError",
     "evalue": "[Errno 2] No such file or directory: 'camels-de-0772adc50345.json'",
     "output_type": "error",
     "traceback": [
      "\u001b[0;31m---------------------------------------------------------------------------\u001b[0m",
      "\u001b[0;31mFileNotFoundError\u001b[0m                         Traceback (most recent call last)",
      "\u001b[0;32m/tmp/ipykernel_13057/198599629.py\u001b[0m in \u001b[0;36m<module>\u001b[0;34m\u001b[0m\n\u001b[1;32m     11\u001b[0m     \u001b[0;31m# Upload the database itself\u001b[0m\u001b[0;34m\u001b[0m\u001b[0;34m\u001b[0m\u001b[0m\n\u001b[1;32m     12\u001b[0m     \u001b[0mdatabase_blob\u001b[0m \u001b[0;34m=\u001b[0m \u001b[0;34mf\"{proc.result_prefix}/{catchment_id}/{catchment_id}_{variable}.db\"\u001b[0m\u001b[0;34m\u001b[0m\u001b[0;34m\u001b[0m\u001b[0m\n\u001b[0;32m---> 13\u001b[0;31m     \u001b[0mproc\u001b[0m\u001b[0;34m.\u001b[0m\u001b[0mupload\u001b[0m\u001b[0;34m(\u001b[0m\u001b[0mdatabase_blob\u001b[0m\u001b[0;34m,\u001b[0m \u001b[0;34mf\"{catchment_id}.db\"\u001b[0m\u001b[0;34m)\u001b[0m\u001b[0;34m\u001b[0m\u001b[0;34m\u001b[0m\u001b[0m\n\u001b[0m\u001b[1;32m     14\u001b[0m \u001b[0;34m\u001b[0m\u001b[0m\n\u001b[1;32m     15\u001b[0m     \u001b[0;31m# upload the catchment as geojson\u001b[0m\u001b[0;34m\u001b[0m\u001b[0;34m\u001b[0m\u001b[0m\n",
      "\u001b[0;32m~/Dropbox/python/clipper/src/db.py\u001b[0m in \u001b[0;36mupload\u001b[0;34m(self, blob_name, source, if_exists)\u001b[0m\n\u001b[1;32m     80\u001b[0m     \u001b[0;32mdef\u001b[0m \u001b[0mupload\u001b[0m\u001b[0;34m(\u001b[0m\u001b[0mself\u001b[0m\u001b[0;34m,\u001b[0m \u001b[0mblob_name\u001b[0m\u001b[0;34m:\u001b[0m \u001b[0mstr\u001b[0m\u001b[0;34m,\u001b[0m \u001b[0msource\u001b[0m\u001b[0;34m:\u001b[0m \u001b[0mUnion\u001b[0m\u001b[0;34m[\u001b[0m\u001b[0mIOBase\u001b[0m\u001b[0;34m,\u001b[0m \u001b[0mstr\u001b[0m\u001b[0;34m]\u001b[0m\u001b[0;34m,\u001b[0m \u001b[0mif_exists\u001b[0m\u001b[0;34m:\u001b[0m \u001b[0mUnion\u001b[0m\u001b[0;34m[\u001b[0m\u001b[0mLiteral\u001b[0m\u001b[0;34m[\u001b[0m\u001b[0;34m'raise'\u001b[0m\u001b[0;34m]\u001b[0m\u001b[0;34m,\u001b[0m \u001b[0mLiteral\u001b[0m\u001b[0;34m[\u001b[0m\u001b[0;34m'ignore'\u001b[0m\u001b[0;34m]\u001b[0m\u001b[0;34m]\u001b[0m \u001b[0;34m=\u001b[0m \u001b[0;34m'raise'\u001b[0m\u001b[0;34m)\u001b[0m \u001b[0;34m->\u001b[0m \u001b[0;32mNone\u001b[0m\u001b[0;34m:\u001b[0m\u001b[0;34m\u001b[0m\u001b[0;34m\u001b[0m\u001b[0m\n\u001b[1;32m     81\u001b[0m         \u001b[0;31m# get the blob object\u001b[0m\u001b[0;34m\u001b[0m\u001b[0;34m\u001b[0m\u001b[0m\n\u001b[0;32m---> 82\u001b[0;31m         \u001b[0mblob\u001b[0m \u001b[0;34m=\u001b[0m \u001b[0mself\u001b[0m\u001b[0;34m.\u001b[0m\u001b[0mtarget\u001b[0m\u001b[0;34m.\u001b[0m\u001b[0mblob\u001b[0m\u001b[0;34m(\u001b[0m\u001b[0mblob_name\u001b[0m\u001b[0;34m)\u001b[0m\u001b[0;34m\u001b[0m\u001b[0;34m\u001b[0m\u001b[0m\n\u001b[0m\u001b[1;32m     83\u001b[0m \u001b[0;34m\u001b[0m\u001b[0m\n\u001b[1;32m     84\u001b[0m         \u001b[0;31m# check if the blob already exists\u001b[0m\u001b[0;34m\u001b[0m\u001b[0;34m\u001b[0m\u001b[0m\n",
      "\u001b[0;32m~/Dropbox/python/clipper/src/db.py\u001b[0m in \u001b[0;36mtarget\u001b[0;34m(self)\u001b[0m\n\u001b[1;32m     54\u001b[0m     \u001b[0;34m@\u001b[0m\u001b[0mproperty\u001b[0m\u001b[0;34m\u001b[0m\u001b[0;34m\u001b[0m\u001b[0m\n\u001b[1;32m     55\u001b[0m     \u001b[0;32mdef\u001b[0m \u001b[0mtarget\u001b[0m\u001b[0;34m(\u001b[0m\u001b[0mself\u001b[0m\u001b[0;34m)\u001b[0m \u001b[0;34m->\u001b[0m \u001b[0mBucket\u001b[0m\u001b[0;34m:\u001b[0m\u001b[0;34m\u001b[0m\u001b[0;34m\u001b[0m\u001b[0m\n\u001b[0;32m---> 56\u001b[0;31m         \u001b[0;32mreturn\u001b[0m \u001b[0mself\u001b[0m\u001b[0;34m.\u001b[0m\u001b[0mclient\u001b[0m\u001b[0;34m.\u001b[0m\u001b[0mbucket\u001b[0m\u001b[0;34m(\u001b[0m\u001b[0mself\u001b[0m\u001b[0;34m.\u001b[0m\u001b[0mtarget_bucket\u001b[0m\u001b[0;34m)\u001b[0m\u001b[0;34m\u001b[0m\u001b[0;34m\u001b[0m\u001b[0m\n\u001b[0m\u001b[1;32m     57\u001b[0m \u001b[0;34m\u001b[0m\u001b[0m\n\u001b[1;32m     58\u001b[0m     \u001b[0;34m@\u001b[0m\u001b[0mcomputed_field\u001b[0m\u001b[0;34m\u001b[0m\u001b[0;34m\u001b[0m\u001b[0m\n",
      "\u001b[0;32m~/anaconda3/lib/python3.9/functools.py\u001b[0m in \u001b[0;36m__get__\u001b[0;34m(self, instance, owner)\u001b[0m\n\u001b[1;32m    991\u001b[0m                 \u001b[0mval\u001b[0m \u001b[0;34m=\u001b[0m \u001b[0mcache\u001b[0m\u001b[0;34m.\u001b[0m\u001b[0mget\u001b[0m\u001b[0;34m(\u001b[0m\u001b[0mself\u001b[0m\u001b[0;34m.\u001b[0m\u001b[0mattrname\u001b[0m\u001b[0;34m,\u001b[0m \u001b[0m_NOT_FOUND\u001b[0m\u001b[0;34m)\u001b[0m\u001b[0;34m\u001b[0m\u001b[0;34m\u001b[0m\u001b[0m\n\u001b[1;32m    992\u001b[0m                 \u001b[0;32mif\u001b[0m \u001b[0mval\u001b[0m \u001b[0;32mis\u001b[0m \u001b[0m_NOT_FOUND\u001b[0m\u001b[0;34m:\u001b[0m\u001b[0;34m\u001b[0m\u001b[0;34m\u001b[0m\u001b[0m\n\u001b[0;32m--> 993\u001b[0;31m                     \u001b[0mval\u001b[0m \u001b[0;34m=\u001b[0m \u001b[0mself\u001b[0m\u001b[0;34m.\u001b[0m\u001b[0mfunc\u001b[0m\u001b[0;34m(\u001b[0m\u001b[0minstance\u001b[0m\u001b[0;34m)\u001b[0m\u001b[0;34m\u001b[0m\u001b[0;34m\u001b[0m\u001b[0m\n\u001b[0m\u001b[1;32m    994\u001b[0m                     \u001b[0;32mtry\u001b[0m\u001b[0;34m:\u001b[0m\u001b[0;34m\u001b[0m\u001b[0;34m\u001b[0m\u001b[0m\n\u001b[1;32m    995\u001b[0m                         \u001b[0mcache\u001b[0m\u001b[0;34m[\u001b[0m\u001b[0mself\u001b[0m\u001b[0;34m.\u001b[0m\u001b[0mattrname\u001b[0m\u001b[0;34m]\u001b[0m \u001b[0;34m=\u001b[0m \u001b[0mval\u001b[0m\u001b[0;34m\u001b[0m\u001b[0;34m\u001b[0m\u001b[0m\n",
      "\u001b[0;32m~/Dropbox/python/clipper/src/db.py\u001b[0m in \u001b[0;36mclient\u001b[0;34m(self)\u001b[0m\n\u001b[1;32m     39\u001b[0m         \u001b[0;31m# build credentials from the service account\u001b[0m\u001b[0;34m\u001b[0m\u001b[0;34m\u001b[0m\u001b[0m\n\u001b[1;32m     40\u001b[0m         \u001b[0;32mif\u001b[0m \u001b[0mself\u001b[0m\u001b[0;34m.\u001b[0m\u001b[0mgkey\u001b[0m \u001b[0;34m!=\u001b[0m \u001b[0;34m''\u001b[0m\u001b[0;34m:\u001b[0m\u001b[0;34m\u001b[0m\u001b[0;34m\u001b[0m\u001b[0m\n\u001b[0;32m---> 41\u001b[0;31m             \u001b[0mcredentials\u001b[0m \u001b[0;34m=\u001b[0m \u001b[0mservice_account\u001b[0m\u001b[0;34m.\u001b[0m\u001b[0mCredentials\u001b[0m\u001b[0;34m.\u001b[0m\u001b[0mfrom_service_account_file\u001b[0m\u001b[0;34m(\u001b[0m\u001b[0mself\u001b[0m\u001b[0;34m.\u001b[0m\u001b[0mgkey\u001b[0m\u001b[0;34m)\u001b[0m\u001b[0;34m\u001b[0m\u001b[0;34m\u001b[0m\u001b[0m\n\u001b[0m\u001b[1;32m     42\u001b[0m         \u001b[0;32melse\u001b[0m\u001b[0;34m:\u001b[0m\u001b[0;34m\u001b[0m\u001b[0;34m\u001b[0m\u001b[0m\n\u001b[1;32m     43\u001b[0m             \u001b[0mcredentials\u001b[0m \u001b[0;34m=\u001b[0m \u001b[0;32mNone\u001b[0m\u001b[0;34m\u001b[0m\u001b[0;34m\u001b[0m\u001b[0m\n",
      "\u001b[0;32m~/anaconda3/lib/python3.9/site-packages/google/oauth2/service_account.py\u001b[0m in \u001b[0;36mfrom_service_account_file\u001b[0;34m(cls, filename, **kwargs)\u001b[0m\n\u001b[1;32m    255\u001b[0m                 \u001b[0mcredentials\u001b[0m\u001b[0;34m.\u001b[0m\u001b[0;34m\u001b[0m\u001b[0;34m\u001b[0m\u001b[0m\n\u001b[1;32m    256\u001b[0m         \"\"\"\n\u001b[0;32m--> 257\u001b[0;31m         info, signer = _service_account_info.from_filename(\n\u001b[0m\u001b[1;32m    258\u001b[0m             \u001b[0mfilename\u001b[0m\u001b[0;34m,\u001b[0m \u001b[0mrequire\u001b[0m\u001b[0;34m=\u001b[0m\u001b[0;34m[\u001b[0m\u001b[0;34m\"client_email\"\u001b[0m\u001b[0;34m,\u001b[0m \u001b[0;34m\"token_uri\"\u001b[0m\u001b[0;34m]\u001b[0m\u001b[0;34m\u001b[0m\u001b[0;34m\u001b[0m\u001b[0m\n\u001b[1;32m    259\u001b[0m         )\n",
      "\u001b[0;32m~/anaconda3/lib/python3.9/site-packages/google/auth/_service_account_info.py\u001b[0m in \u001b[0;36mfrom_filename\u001b[0;34m(filename, require, use_rsa_signer)\u001b[0m\n\u001b[1;32m     76\u001b[0m             \u001b[0minfo\u001b[0m \u001b[0;32mand\u001b[0m \u001b[0ma\u001b[0m \u001b[0msigner\u001b[0m \u001b[0minstance\u001b[0m\u001b[0;34m.\u001b[0m\u001b[0;34m\u001b[0m\u001b[0;34m\u001b[0m\u001b[0m\n\u001b[1;32m     77\u001b[0m     \"\"\"\n\u001b[0;32m---> 78\u001b[0;31m     \u001b[0;32mwith\u001b[0m \u001b[0mio\u001b[0m\u001b[0;34m.\u001b[0m\u001b[0mopen\u001b[0m\u001b[0;34m(\u001b[0m\u001b[0mfilename\u001b[0m\u001b[0;34m,\u001b[0m \u001b[0;34m\"r\"\u001b[0m\u001b[0;34m,\u001b[0m \u001b[0mencoding\u001b[0m\u001b[0;34m=\u001b[0m\u001b[0;34m\"utf-8\"\u001b[0m\u001b[0;34m)\u001b[0m \u001b[0;32mas\u001b[0m \u001b[0mjson_file\u001b[0m\u001b[0;34m:\u001b[0m\u001b[0;34m\u001b[0m\u001b[0;34m\u001b[0m\u001b[0m\n\u001b[0m\u001b[1;32m     79\u001b[0m         \u001b[0mdata\u001b[0m \u001b[0;34m=\u001b[0m \u001b[0mjson\u001b[0m\u001b[0;34m.\u001b[0m\u001b[0mload\u001b[0m\u001b[0;34m(\u001b[0m\u001b[0mjson_file\u001b[0m\u001b[0;34m)\u001b[0m\u001b[0;34m\u001b[0m\u001b[0;34m\u001b[0m\u001b[0m\n\u001b[1;32m     80\u001b[0m         \u001b[0;32mreturn\u001b[0m \u001b[0mdata\u001b[0m\u001b[0;34m,\u001b[0m \u001b[0mfrom_dict\u001b[0m\u001b[0;34m(\u001b[0m\u001b[0mdata\u001b[0m\u001b[0;34m,\u001b[0m \u001b[0mrequire\u001b[0m\u001b[0;34m=\u001b[0m\u001b[0mrequire\u001b[0m\u001b[0;34m,\u001b[0m \u001b[0muse_rsa_signer\u001b[0m\u001b[0;34m=\u001b[0m\u001b[0muse_rsa_signer\u001b[0m\u001b[0;34m)\u001b[0m\u001b[0;34m\u001b[0m\u001b[0;34m\u001b[0m\u001b[0m\n",
      "\u001b[0;31mFileNotFoundError\u001b[0m: [Errno 2] No such file or directory: 'camels-de-0772adc50345.json'"
     ]
    }
   ],
   "source": [
    "# this is the stuff to be uploaded\n",
    "if not WITH_PAPERMILL:\n",
    "    from db import DuckProcessor\n",
    "\n",
    "    proc = DuckProcessor(target_bucket=target_bucket, catchments_path=catchments_path, notebook_bucket=notebook_bucket)\n",
    "\n",
    "    # save the current state of this notebook\n",
    "    from IPython.display import display, Javascript\n",
    "    display(Javascript('IPython.notebook.save_checkpoint();'))\n",
    "\n",
    "    # Upload the database itself\n",
    "    database_blob = f\"{proc.result_prefix}/{catchment_id}/{catchment_id}_{variable}.db\"\n",
    "    proc.upload(database_blob, f\"{catchment_id}.db\")\n",
    "\n",
    "    # upload the catchment as geojson\n",
    "    catchment_blob = f\"{proc.result_prefix}/{catchment_id}/{catchment_id}.geojson\"\n",
    "    proc.target.blob(catchment_blob).upload_from_string(catchment.to_json())\n",
    "\n",
    "    # upload the notebook\n",
    "    notebook_blob = f\"{proc.result_prefix}/{catchment_id}_clip_catchment_from_hyras.ipynb\"\n",
    "    proc.upload_notebook(notebook_blob, './clip_catchment_from_hyras.ipynb')"
   ]
  }
 ],
 "metadata": {
  "kernelspec": {
   "display_name": "base",
   "language": "python",
   "name": "python3"
  },
  "language_info": {
   "codemirror_mode": {
    "name": "ipython",
    "version": 3
   },
   "file_extension": ".py",
   "mimetype": "text/x-python",
   "name": "python",
   "nbconvert_exporter": "python",
   "pygments_lexer": "ipython3",
   "version": "3.9.13"
  }
 },
 "nbformat": 4,
 "nbformat_minor": 2
}
